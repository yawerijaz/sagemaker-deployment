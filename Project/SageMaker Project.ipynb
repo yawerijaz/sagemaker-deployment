{
 "cells": [
  {
   "cell_type": "markdown",
   "metadata": {},
   "source": [
    "# Creating a Sentiment Analysis Web App\n",
    "## Using PyTorch and SageMaker\n",
    "\n",
    "_Deep Learning Nanodegree Program | Deployment_\n",
    "\n",
    "---\n",
    "\n",
    "Now that we have a basic understanding of how SageMaker works we will try to use it to construct a complete project from end to end. Our goal will be to have a simple web page which a user can use to enter a movie review. The web page will then send the review off to our deployed model which will predict the sentiment of the entered review.\n",
    "\n",
    "## Instructions\n",
    "\n",
    "Some template code has already been provided for you, and you will need to implement additional functionality to successfully complete this notebook. You will not need to modify the included code beyond what is requested. Sections that begin with '**TODO**' in the header indicate that you need to complete or implement some portion within them. Instructions will be provided for each section and the specifics of the implementation are marked in the code block with a `# TODO: ...` comment. Please be sure to read the instructions carefully!\n",
    "\n",
    "In addition to implementing code, there will be questions for you to answer which relate to the task and your implementation. Each section where you will answer a question is preceded by a '**Question:**' header. Carefully read each question and provide your answer below the '**Answer:**' header by editing the Markdown cell.\n",
    "\n",
    "> **Note**: Code and Markdown cells can be executed using the **Shift+Enter** keyboard shortcut. In addition, a cell can be edited by typically clicking it (double-click for Markdown cells) or by pressing **Enter** while it is highlighted.\n",
    "\n",
    "## General Outline\n",
    "\n",
    "Recall the general outline for SageMaker projects using a notebook instance.\n",
    "\n",
    "1. Download or otherwise retrieve the data.\n",
    "2. Process / Prepare the data.\n",
    "3. Upload the processed data to S3.\n",
    "4. Train a chosen model.\n",
    "5. Test the trained model (typically using a batch transform job).\n",
    "6. Deploy the trained model.\n",
    "7. Use the deployed model.\n",
    "\n",
    "For this project, you will be following the steps in the general outline with some modifications. \n",
    "\n",
    "First, you will not be testing the model in its own step. You will still be testing the model, however, you will do it by deploying your model and then using the deployed model by sending the test data to it. One of the reasons for doing this is so that you can make sure that your deployed model is working correctly before moving forward.\n",
    "\n",
    "In addition, you will deploy and use your trained model a second time. In the second iteration you will customize the way that your trained model is deployed by including some of your own code. In addition, your newly deployed model will be used in the sentiment analysis web app."
   ]
  },
  {
   "cell_type": "markdown",
   "metadata": {},
   "source": [
    "## Step 1: Downloading the data\n",
    "\n",
    "As in the XGBoost in SageMaker notebook, we will be using the [IMDb dataset](http://ai.stanford.edu/~amaas/data/sentiment/)\n",
    "\n",
    "> Maas, Andrew L., et al. [Learning Word Vectors for Sentiment Analysis](http://ai.stanford.edu/~amaas/data/sentiment/). In _Proceedings of the 49th Annual Meeting of the Association for Computational Linguistics: Human Language Technologies_. Association for Computational Linguistics, 2011."
   ]
  },
  {
   "cell_type": "code",
   "execution_count": 83,
   "metadata": {},
   "outputs": [
    {
     "name": "stdout",
     "output_type": "stream",
     "text": [
      "mkdir: cannot create directory ‘../data’: File exists\n",
      "--2019-11-27 14:24:53--  http://ai.stanford.edu/~amaas/data/sentiment/aclImdb_v1.tar.gz\n",
      "Resolving ai.stanford.edu (ai.stanford.edu)... 171.64.68.10\n",
      "Connecting to ai.stanford.edu (ai.stanford.edu)|171.64.68.10|:80... connected.\n",
      "HTTP request sent, awaiting response... 200 OK\n",
      "Length: 84125825 (80M) [application/x-gzip]\n",
      "Saving to: ‘../data/aclImdb_v1.tar.gz’\n",
      "\n",
      "../data/aclImdb_v1. 100%[===================>]  80.23M  9.22MB/s    in 10s     \n",
      "\n",
      "2019-11-27 14:25:04 (7.67 MB/s) - ‘../data/aclImdb_v1.tar.gz’ saved [84125825/84125825]\n",
      "\n"
     ]
    }
   ],
   "source": [
    "%mkdir ../data\n",
    "!wget -O ../data/aclImdb_v1.tar.gz http://ai.stanford.edu/~amaas/data/sentiment/aclImdb_v1.tar.gz\n",
    "!tar -zxf ../data/aclImdb_v1.tar.gz -C ../data"
   ]
  },
  {
   "cell_type": "markdown",
   "metadata": {},
   "source": [
    "## Step 2: Preparing and Processing the data\n",
    "\n",
    "Also, as in the XGBoost notebook, we will be doing some initial data processing. The first few steps are the same as in the XGBoost example. To begin with, we will read in each of the reviews and combine them into a single input structure. Then, we will split the dataset into a training set and a testing set."
   ]
  },
  {
   "cell_type": "code",
   "execution_count": 84,
   "metadata": {},
   "outputs": [],
   "source": [
    "import os\n",
    "import glob\n",
    "\n",
    "def read_imdb_data(data_dir='../data/aclImdb'):\n",
    "    data = {}\n",
    "    labels = {}\n",
    "    \n",
    "    for data_type in ['train', 'test']:\n",
    "        data[data_type] = {}\n",
    "        labels[data_type] = {}\n",
    "        \n",
    "        for sentiment in ['pos', 'neg']:\n",
    "            data[data_type][sentiment] = []\n",
    "            labels[data_type][sentiment] = []\n",
    "            \n",
    "            path = os.path.join(data_dir, data_type, sentiment, '*.txt')\n",
    "            files = glob.glob(path)\n",
    "            \n",
    "            for f in files:\n",
    "                with open(f) as review:\n",
    "                    data[data_type][sentiment].append(review.read())\n",
    "                    # Here we represent a positive review by '1' and a negative review by '0'\n",
    "                    labels[data_type][sentiment].append(1 if sentiment == 'pos' else 0)\n",
    "                    \n",
    "            assert len(data[data_type][sentiment]) == len(labels[data_type][sentiment]), \\\n",
    "                    \"{}/{} data size does not match labels size\".format(data_type, sentiment)\n",
    "                \n",
    "    return data, labels"
   ]
  },
  {
   "cell_type": "code",
   "execution_count": 3,
   "metadata": {},
   "outputs": [
    {
     "name": "stdout",
     "output_type": "stream",
     "text": [
      "IMDB reviews: train = 12500 pos / 12500 neg, test = 12500 pos / 12500 neg\n"
     ]
    }
   ],
   "source": [
    "data, labels = read_imdb_data()\n",
    "print(\"IMDB reviews: train = {} pos / {} neg, test = {} pos / {} neg\".format(\n",
    "            len(data['train']['pos']), len(data['train']['neg']),\n",
    "            len(data['test']['pos']), len(data['test']['neg'])))"
   ]
  },
  {
   "cell_type": "markdown",
   "metadata": {},
   "source": [
    "Now that we've read the raw training and testing data from the downloaded dataset, we will combine the positive and negative reviews and shuffle the resulting records."
   ]
  },
  {
   "cell_type": "code",
   "execution_count": 4,
   "metadata": {},
   "outputs": [],
   "source": [
    "from sklearn.utils import shuffle\n",
    "\n",
    "def prepare_imdb_data(data, labels):\n",
    "    \"\"\"Prepare training and test sets from IMDb movie reviews.\"\"\"\n",
    "    \n",
    "    #Combine positive and negative reviews and labels\n",
    "    data_train = data['train']['pos'] + data['train']['neg']\n",
    "    data_test = data['test']['pos'] + data['test']['neg']\n",
    "    labels_train = labels['train']['pos'] + labels['train']['neg']\n",
    "    labels_test = labels['test']['pos'] + labels['test']['neg']\n",
    "    \n",
    "    #Shuffle reviews and corresponding labels within training and test sets\n",
    "    data_train, labels_train = shuffle(data_train, labels_train)\n",
    "    data_test, labels_test = shuffle(data_test, labels_test)\n",
    "    \n",
    "    # Return a unified training data, test data, training labels, test labets\n",
    "    return data_train, data_test, labels_train, labels_test"
   ]
  },
  {
   "cell_type": "code",
   "execution_count": 134,
   "metadata": {},
   "outputs": [
    {
     "name": "stdout",
     "output_type": "stream",
     "text": [
      "IMDb reviews (combined): train = 25000, test = 25000\n"
     ]
    }
   ],
   "source": [
    "train_X, test_X, train_y, test_y = prepare_imdb_data(data, labels)\n",
    "print(\"IMDb reviews (combined): train = {}, test = {}\".format(len(train_X), len(test_X)))"
   ]
  },
  {
   "cell_type": "markdown",
   "metadata": {},
   "source": [
    "Now that we have our training and testing sets unified and prepared, we should do a quick check and see an example of the data our model will be trained on. This is generally a good idea as it allows you to see how each of the further processing steps affects the reviews and it also ensures that the data has been loaded correctly."
   ]
  },
  {
   "cell_type": "code",
   "execution_count": 135,
   "metadata": {},
   "outputs": [
    {
     "name": "stdout",
     "output_type": "stream",
     "text": [
      "It's easy to make really general comments about a film like this. The fact that it's one of the only remaining Japanese films from this era causes people to say that it \"started Japanese cinema\" and was \"unlike anything the west ever made.\" The latter of these two comments is particularly false as Kinugasa himself admitted to ripping off \"Caligari\" on more than one occasion. But style was meant to be imitated, and doesn't take away from this film's importance. What we have here is experimental themes and composition built on already established visual styles, opening the doors for a truly brilliant layering of narratives and realities. For this purpose, the madhouse is the ideal setting, and the writers knew this. This is a landmark film, and every effort should be made to track it down.<br /><br />5 out of 5 - Essential\n",
      "1\n"
     ]
    }
   ],
   "source": [
    "print(train_X[100])\n",
    "print(train_y[100])"
   ]
  },
  {
   "cell_type": "markdown",
   "metadata": {},
   "source": [
    "The first step in processing the reviews is to make sure that any html tags that appear should be removed. In addition we wish to tokenize our input, that way words such as *entertained* and *entertaining* are considered the same with regard to sentiment analysis."
   ]
  },
  {
   "cell_type": "code",
   "execution_count": 136,
   "metadata": {},
   "outputs": [],
   "source": [
    "import nltk\n",
    "from nltk.corpus import stopwords\n",
    "from nltk.stem.porter import *\n",
    "\n",
    "import re\n",
    "from bs4 import BeautifulSoup\n",
    "\n",
    "def review_to_words(review):\n",
    "    nltk.download(\"stopwords\", quiet=True)\n",
    "    stemmer = PorterStemmer()\n",
    "    \n",
    "    text = BeautifulSoup(review, \"html.parser\").get_text() # Remove HTML tags\n",
    "    text = re.sub(r\"[^a-zA-Z0-9]\", \" \", text.lower()) # Convert to lower case\n",
    "    words = text.split() # Split string into words\n",
    "    words = [w for w in words if w not in stopwords.words(\"english\")] # Remove stopwords\n",
    "    words = [PorterStemmer().stem(w) for w in words] # stem\n",
    "    \n",
    "    return words"
   ]
  },
  {
   "cell_type": "markdown",
   "metadata": {},
   "source": [
    "The `review_to_words` method defined above uses `BeautifulSoup` to remove any html tags that appear and uses the `nltk` package to tokenize the reviews. As a check to ensure we know how everything is working, try applying `review_to_words` to one of the reviews in the training set."
   ]
  },
  {
   "cell_type": "code",
   "execution_count": 137,
   "metadata": {},
   "outputs": [
    {
     "data": {
      "text/plain": [
       "'movi funni total non pc gangster romp mel brook made pictur mob 30 would probabl look like mani great one liner rememb everyon anyon doesnt laugh whole bunch time doesnt puls put laugh icehol'"
      ]
     },
     "execution_count": 137,
     "metadata": {},
     "output_type": "execute_result"
    }
   ],
   "source": [
    "# TODO: Apply review_to_words to a review (train_X[100] or any other review)\n",
    "' '.join(review_to_words(train_X[10]))"
   ]
  },
  {
   "cell_type": "markdown",
   "metadata": {},
   "source": [
    "<div style='background-color:lightblue;'> DONE </div>"
   ]
  },
  {
   "cell_type": "markdown",
   "metadata": {},
   "source": [
    "**Question:** Above we mentioned that `review_to_words` method removes html formatting and allows us to tokenize the words found in a review, for example, converting *entertained* and *entertaining* into *entertain* so that they are treated as though they are the same word. What else, if anything, does this method do to the input?"
   ]
  },
  {
   "cell_type": "markdown",
   "metadata": {},
   "source": [
    "**Answer:**\n",
    "\n",
    "<div style=\"background-color:lightblue\">\n",
    "    \n",
    "The `review_to_words` function does the following:\n",
    "\n",
    "1. Remove HTML formatting\n",
    "1. Put the text in lower case\n",
    "1. Remove the most common words in the English language that would probably not help us in context inference\n",
    "1. Tokenize the words\n",
    "    \n",
    "</div>"
   ]
  },
  {
   "cell_type": "markdown",
   "metadata": {},
   "source": [
    "The method below applies the `review_to_words` method to each of the reviews in the training and testing datasets. In addition it caches the results. This is because performing this processing step can take a long time. This way if you are unable to complete the notebook in the current session, you can come back without needing to process the data a second time."
   ]
  },
  {
   "cell_type": "code",
   "execution_count": 9,
   "metadata": {},
   "outputs": [],
   "source": [
    "import pickle\n",
    "\n",
    "cache_dir = os.path.join(\"../cache\", \"sentiment_analysis\")  # where to store cache files\n",
    "os.makedirs(cache_dir, exist_ok=True)  # ensure cache directory exists\n",
    "\n",
    "def preprocess_data(data_train, data_test, labels_train, labels_test,\n",
    "                    cache_dir=cache_dir, cache_file=\"preprocessed_data.pkl\"):\n",
    "    \"\"\"Convert each review to words; read from cache if available.\"\"\"\n",
    "\n",
    "    # If cache_file is not None, try to read from it first\n",
    "    cache_data = None\n",
    "    if cache_file is not None:\n",
    "        try:\n",
    "            with open(os.path.join(cache_dir, cache_file), \"rb\") as f:\n",
    "                cache_data = pickle.load(f)\n",
    "            print(\"Read preprocessed data from cache file:\", cache_file)\n",
    "        except:\n",
    "            pass  # unable to read from cache, but that's okay\n",
    "    \n",
    "    # If cache is missing, then do the heavy lifting\n",
    "    if cache_data is None:\n",
    "        # Preprocess training and test data to obtain words for each review\n",
    "        #words_train = list(map(review_to_words, data_train))\n",
    "        #words_test = list(map(review_to_words, data_test))\n",
    "        words_train = [review_to_words(review) for review in data_train]\n",
    "        words_test = [review_to_words(review) for review in data_test]\n",
    "        \n",
    "        # Write to cache file for future runs\n",
    "        if cache_file is not None:\n",
    "            cache_data = dict(words_train=words_train, words_test=words_test,\n",
    "                              labels_train=labels_train, labels_test=labels_test)\n",
    "            with open(os.path.join(cache_dir, cache_file), \"wb\") as f:\n",
    "                pickle.dump(cache_data, f)\n",
    "            print(\"Wrote preprocessed data to cache file:\", cache_file)\n",
    "    else:\n",
    "        # Unpack data loaded from cache file\n",
    "        words_train, words_test, labels_train, labels_test = (cache_data['words_train'],\n",
    "                cache_data['words_test'], cache_data['labels_train'], cache_data['labels_test'])\n",
    "    \n",
    "    return words_train, words_test, labels_train, labels_test"
   ]
  },
  {
   "cell_type": "code",
   "execution_count": 10,
   "metadata": {},
   "outputs": [
    {
     "name": "stdout",
     "output_type": "stream",
     "text": [
      "Read preprocessed data from cache file: preprocessed_data.pkl\n"
     ]
    }
   ],
   "source": [
    "# Preprocess data\n",
    "train_X, test_X, train_y, test_y = preprocess_data(train_X, test_X, train_y, test_y)"
   ]
  },
  {
   "cell_type": "markdown",
   "metadata": {},
   "source": [
    "## Transform the data\n",
    "\n",
    "In the XGBoost notebook we transformed the data from its word representation to a bag-of-words feature representation. For the model we are going to construct in this notebook we will construct a feature representation which is very similar. To start, we will represent each word as an integer. Of course, some of the words that appear in the reviews occur very infrequently and so likely don't contain much information for the purposes of sentiment analysis. The way we will deal with this problem is that we will fix the size of our working vocabulary and we will only include the words that appear most frequently. We will then combine all of the infrequent words into a single category and, in our case, we will label it as `1`.\n",
    "\n",
    "Since we will be using a recurrent neural network, it will be convenient if the length of each review is the same. To do this, we will fix a size for our reviews and then pad short reviews with the category 'no word' (which we will label `0`) and truncate long reviews."
   ]
  },
  {
   "cell_type": "markdown",
   "metadata": {},
   "source": [
    "### (TODO) Create a word dictionary\n",
    "\n",
    "To begin with, we need to construct a way to map words that appear in the reviews to integers. Here we fix the size of our vocabulary (including the 'no word' and 'infrequent' categories) to be `5000` but you may wish to change this to see how it affects the model.\n",
    "\n",
    "> **TODO:** Complete the implementation for the `build_dict()` method below. Note that even though the vocab_size is set to `5000`, we only want to construct a mapping for the most frequently appearing `4998` words. This is because we want to reserve the special labels `0` for 'no word' and `1` for 'infrequent word'."
   ]
  },
  {
   "cell_type": "markdown",
   "metadata": {},
   "source": [
    "<div style='background-color:lightblue;'> Done </div>"
   ]
  },
  {
   "cell_type": "code",
   "execution_count": 11,
   "metadata": {},
   "outputs": [],
   "source": [
    "import numpy as np\n",
    "\n",
    "def build_dict(data, vocab_size = 5000):\n",
    "    \"\"\"Construct and return a dictionary mapping each of the most frequently appearing words to a unique integer.\"\"\"\n",
    "    \n",
    "    # TODO: Determine how often each word appears in `data`. Note that `data` is a list of sentences and that a\n",
    "    #       sentence is a list of words.\n",
    "    from collections import Counter\n",
    "    from itertools import chain\n",
    "    \n",
    "    word_count = Counter(chain.from_iterable(data)) # A dict storing the words that appear in the reviews along with how often they occur\n",
    "    \n",
    "    # TODO: Sort the words found in `data` so that sorted_words[0] is the most frequently appearing word and\n",
    "    #       sorted_words[-1] is the least frequently appearing word.\n",
    "    \n",
    "    sorted_words = [w for w, _ in word_count.most_common()]\n",
    "    \n",
    "    word_dict = {} # This is what we are building, a dictionary that translates words into integers\n",
    "    for idx, word in enumerate(sorted_words[:vocab_size - 2]): # The -2 is so that we save room for the 'no word'\n",
    "        word_dict[word] = idx + 2                              # 'infrequent' labels\n",
    "        \n",
    "    return word_dict"
   ]
  },
  {
   "cell_type": "code",
   "execution_count": 12,
   "metadata": {},
   "outputs": [],
   "source": [
    "word_dict = build_dict(train_X)"
   ]
  },
  {
   "cell_type": "markdown",
   "metadata": {},
   "source": [
    "**Question:** What are the five most frequently appearing (tokenized) words in the training set? Does it makes sense that these words appear frequently in the training set?"
   ]
  },
  {
   "cell_type": "markdown",
   "metadata": {},
   "source": [
    "**Answer:**"
   ]
  },
  {
   "cell_type": "code",
   "execution_count": 13,
   "metadata": {},
   "outputs": [
    {
     "data": {
      "text/plain": [
       "['movi', 'film', 'one', 'like', 'time']"
      ]
     },
     "execution_count": 13,
     "metadata": {},
     "output_type": "execute_result"
    }
   ],
   "source": [
    "# TODO: Use this space to determine the five most frequently appearing words in the training set.\n",
    "[w for w, idx in word_dict.items() if idx < 7]"
   ]
  },
  {
   "cell_type": "markdown",
   "metadata": {},
   "source": [
    "<div style='background-color:lightblue;'>The top words are related to movie and preferences This is expected in the training set.</div>"
   ]
  },
  {
   "cell_type": "markdown",
   "metadata": {},
   "source": [
    "### Save `word_dict`\n",
    "\n",
    "Later on when we construct an endpoint which processes a submitted review we will need to make use of the `word_dict` which we have created. As such, we will save it to a file now for future use."
   ]
  },
  {
   "cell_type": "code",
   "execution_count": 14,
   "metadata": {},
   "outputs": [],
   "source": [
    "data_dir = '../data/pytorch' # The folder we will use for storing data\n",
    "if not os.path.exists(data_dir): # Make sure that the folder exists\n",
    "    os.makedirs(data_dir)"
   ]
  },
  {
   "cell_type": "code",
   "execution_count": 15,
   "metadata": {},
   "outputs": [],
   "source": [
    "with open(os.path.join(data_dir, 'word_dict.pkl'), \"wb\") as f:\n",
    "    pickle.dump(word_dict, f)"
   ]
  },
  {
   "cell_type": "markdown",
   "metadata": {},
   "source": [
    "### Transform the reviews\n",
    "\n",
    "Now that we have our word dictionary which allows us to transform the words appearing in the reviews into integers, it is time to make use of it and convert our reviews to their integer sequence representation, making sure to pad or truncate to a fixed length, which in our case is `500`."
   ]
  },
  {
   "cell_type": "code",
   "execution_count": 16,
   "metadata": {},
   "outputs": [],
   "source": [
    "def convert_and_pad(word_dict, sentence, pad=500):\n",
    "    NOWORD = 0 # We will use 0 to represent the 'no word' category\n",
    "    INFREQ = 1 # and we use 1 to represent the infrequent words, i.e., words not appearing in word_dict\n",
    "    \n",
    "    working_sentence = [NOWORD] * pad\n",
    "    \n",
    "    for word_index, word in enumerate(sentence[:pad]):\n",
    "        if word in word_dict:\n",
    "            working_sentence[word_index] = word_dict[word]\n",
    "        else:\n",
    "            working_sentence[word_index] = INFREQ\n",
    "            \n",
    "    return working_sentence, min(len(sentence), pad)\n",
    "\n",
    "def convert_and_pad_data(word_dict, data, pad=500):\n",
    "    result = []\n",
    "    lengths = []\n",
    "    \n",
    "    for sentence in data:\n",
    "        converted, leng = convert_and_pad(word_dict, sentence, pad)\n",
    "        result.append(converted)\n",
    "        lengths.append(leng)\n",
    "        \n",
    "    return np.array(result), np.array(lengths)"
   ]
  },
  {
   "cell_type": "code",
   "execution_count": 17,
   "metadata": {},
   "outputs": [],
   "source": [
    "train_X, train_X_len = convert_and_pad_data(word_dict, train_X)\n",
    "test_X, test_X_len = convert_and_pad_data(word_dict, test_X)"
   ]
  },
  {
   "cell_type": "markdown",
   "metadata": {},
   "source": [
    "As a quick check to make sure that things are working as intended, check to see what one of the reviews in the training set looks like after having been processeed. Does this look reasonable? What is the length of a review in the training set?"
   ]
  },
  {
   "cell_type": "code",
   "execution_count": 18,
   "metadata": {},
   "outputs": [
    {
     "data": {
      "text/plain": [
       "(25000,\n",
       " 500,\n",
       " 37,\n",
       " 500,\n",
       " 58,\n",
       " Counter({12: 2,\n",
       "          318: 1,\n",
       "          1634: 1,\n",
       "          1: 7,\n",
       "          43: 3,\n",
       "          125: 2,\n",
       "          67: 1,\n",
       "          2: 4,\n",
       "          224: 1,\n",
       "          6: 1,\n",
       "          14: 2,\n",
       "          857: 1,\n",
       "          287: 1,\n",
       "          1316: 1,\n",
       "          233: 3,\n",
       "          278: 1,\n",
       "          7: 1,\n",
       "          294: 1,\n",
       "          52: 1,\n",
       "          24: 1,\n",
       "          53: 1,\n",
       "          72: 1,\n",
       "          55: 1,\n",
       "          38: 1,\n",
       "          21: 1,\n",
       "          396: 1,\n",
       "          41: 2,\n",
       "          299: 1,\n",
       "          9: 1,\n",
       "          1936: 1,\n",
       "          1167: 1,\n",
       "          86: 2,\n",
       "          585: 1,\n",
       "          27: 1,\n",
       "          46: 1,\n",
       "          1188: 1,\n",
       "          1361: 1,\n",
       "          994: 1,\n",
       "          304: 1,\n",
       "          2651: 1,\n",
       "          0: 442}))"
      ]
     },
     "execution_count": 18,
     "metadata": {},
     "output_type": "execute_result"
    }
   ],
   "source": [
    "# Use this cell to examine one of the processed reviews to make sure everything is working as intended.\n",
    "from collections import Counter\n",
    "len(train_X), len(train_X[10]), train_X_len[10], len(train_X[100]), train_X_len[100], Counter(train_X[100])"
   ]
  },
  {
   "cell_type": "markdown",
   "metadata": {},
   "source": [
    "**Question:** In the cells above we use the `preprocess_data` and `convert_and_pad_data` methods to process both the training and testing set. Why or why not might this be a problem?"
   ]
  },
  {
   "cell_type": "markdown",
   "metadata": {},
   "source": [
    "**Answer:**\n",
    "\n",
    "<div style='background-color:lightblue;'> \n",
    "    \n",
    "`preprocess_data` treats the training and testing data separately, stripping off the formattings and splitting the sentences into list of words, \n",
    "without leaking any information to the other data set.\n",
    "    \n",
    "We then use `build_dict` on `train_X` to formulate a common vocabulary on both training and testing data set.\n",
    "After that, we use `convert_and_pad_data` to build the sparse matrices representing the word counts in each of the sets.\n",
    "    \n",
    "None of these processes introduce the information from the testing set to the training set,\n",
    "thus we are on the right track since no leakage happens here.\n",
    "\n",
    "</div>"
   ]
  },
  {
   "cell_type": "markdown",
   "metadata": {},
   "source": [
    "## Step 3: Upload the data to S3\n",
    "\n",
    "As in the XGBoost notebook, we will need to upload the training dataset to S3 in order for our training code to access it. For now we will save it locally and we will upload to S3 later on.\n",
    "\n",
    "### Save the processed training dataset locally\n",
    "\n",
    "It is important to note the format of the data that we are saving as we will need to know it when we write the training code. In our case, each row of the dataset has the form `label`, `length`, `review[500]` where `review[500]` is a sequence of `500` integers representing the words in the review."
   ]
  },
  {
   "cell_type": "code",
   "execution_count": 19,
   "metadata": {},
   "outputs": [],
   "source": [
    "import pandas as pd\n",
    "    \n",
    "pd.concat([pd.DataFrame(train_y), pd.DataFrame(train_X_len), pd.DataFrame(train_X)], axis=1) \\\n",
    "        .to_csv(os.path.join(data_dir, 'train.csv'), header=False, index=False)"
   ]
  },
  {
   "cell_type": "markdown",
   "metadata": {},
   "source": [
    "### Uploading the training data\n",
    "\n",
    "\n",
    "Next, we need to upload the training data to the SageMaker default S3 bucket so that we can provide access to it while training our model."
   ]
  },
  {
   "cell_type": "code",
   "execution_count": 20,
   "metadata": {},
   "outputs": [],
   "source": [
    "import sagemaker\n",
    "\n",
    "sagemaker_session = sagemaker.Session()\n",
    "\n",
    "bucket = sagemaker_session.default_bucket()\n",
    "prefix = 'sagemaker/sentiment_rnn'\n",
    "\n",
    "role = sagemaker.get_execution_role()"
   ]
  },
  {
   "cell_type": "code",
   "execution_count": 21,
   "metadata": {},
   "outputs": [],
   "source": [
    "input_data = sagemaker_session.upload_data(path=data_dir, bucket=bucket, key_prefix=prefix)"
   ]
  },
  {
   "cell_type": "markdown",
   "metadata": {},
   "source": [
    "**NOTE:** The cell above uploads the entire contents of our data directory. This includes the `word_dict.pkl` file. This is fortunate as we will need this later on when we create an endpoint that accepts an arbitrary review. For now, we will just take note of the fact that it resides in the data directory (and so also in the S3 training bucket) and that we will need to make sure it gets saved in the model directory."
   ]
  },
  {
   "cell_type": "markdown",
   "metadata": {},
   "source": [
    "## Step 4: Build and Train the PyTorch Model\n",
    "\n",
    "In the XGBoost notebook we discussed what a model is in the SageMaker framework. In particular, a model comprises three objects\n",
    "\n",
    " - Model Artifacts,\n",
    " - Training Code, and\n",
    " - Inference Code,\n",
    " \n",
    "each of which interact with one another. In the XGBoost example we used training and inference code that was provided by Amazon. Here we will still be using containers provided by Amazon with the added benefit of being able to include our own custom code.\n",
    "\n",
    "We will start by implementing our own neural network in PyTorch along with a training script. For the purposes of this project we have provided the necessary model object in the `model.py` file, inside of the `train` folder. You can see the provided implementation by running the cell below."
   ]
  },
  {
   "cell_type": "code",
   "execution_count": 22,
   "metadata": {},
   "outputs": [
    {
     "name": "stdout",
     "output_type": "stream",
     "text": [
      "\u001b[34mimport\u001b[39;49;00m \u001b[04m\u001b[36mtorch.nn\u001b[39;49;00m \u001b[34mas\u001b[39;49;00m \u001b[04m\u001b[36mnn\u001b[39;49;00m\n",
      "\n",
      "\u001b[34mclass\u001b[39;49;00m \u001b[04m\u001b[32mLSTMClassifier\u001b[39;49;00m(nn.Module):\n",
      "    \u001b[33m\"\"\"\u001b[39;49;00m\n",
      "\u001b[33m    This is the simple RNN model we will be using to perform Sentiment Analysis.\u001b[39;49;00m\n",
      "\u001b[33m    \"\"\"\u001b[39;49;00m\n",
      "\n",
      "    \u001b[34mdef\u001b[39;49;00m \u001b[32m__init__\u001b[39;49;00m(\u001b[36mself\u001b[39;49;00m, embedding_dim, hidden_dim, vocab_size):\n",
      "        \u001b[33m\"\"\"\u001b[39;49;00m\n",
      "\u001b[33m        Initialize the model by settingg up the various layers.\u001b[39;49;00m\n",
      "\u001b[33m        \"\"\"\u001b[39;49;00m\n",
      "        \u001b[36msuper\u001b[39;49;00m(LSTMClassifier, \u001b[36mself\u001b[39;49;00m).\u001b[32m__init__\u001b[39;49;00m()\n",
      "\n",
      "        \u001b[36mself\u001b[39;49;00m.embedding = nn.Embedding(vocab_size, embedding_dim, padding_idx=\u001b[34m0\u001b[39;49;00m)\n",
      "        \u001b[36mself\u001b[39;49;00m.lstm = nn.LSTM(embedding_dim, hidden_dim)\n",
      "        \u001b[36mself\u001b[39;49;00m.dense = nn.Linear(in_features=hidden_dim, out_features=\u001b[34m1\u001b[39;49;00m)\n",
      "        \u001b[36mself\u001b[39;49;00m.sig = nn.Sigmoid()\n",
      "        \n",
      "        \u001b[36mself\u001b[39;49;00m.word_dict = \u001b[36mNone\u001b[39;49;00m\n",
      "\n",
      "    \u001b[34mdef\u001b[39;49;00m \u001b[32mforward\u001b[39;49;00m(\u001b[36mself\u001b[39;49;00m, x):\n",
      "        \u001b[33m\"\"\"\u001b[39;49;00m\n",
      "\u001b[33m        Perform a forward pass of our model on some input.\u001b[39;49;00m\n",
      "\u001b[33m        \"\"\"\u001b[39;49;00m\n",
      "        x = x.t()\n",
      "        lengths = x[\u001b[34m0\u001b[39;49;00m,:]\n",
      "        reviews = x[\u001b[34m1\u001b[39;49;00m:,:]\n",
      "        embeds = \u001b[36mself\u001b[39;49;00m.embedding(reviews)\n",
      "        lstm_out, _ = \u001b[36mself\u001b[39;49;00m.lstm(embeds)\n",
      "        out = \u001b[36mself\u001b[39;49;00m.dense(lstm_out)\n",
      "        out = out[lengths - \u001b[34m1\u001b[39;49;00m, \u001b[36mrange\u001b[39;49;00m(\u001b[36mlen\u001b[39;49;00m(lengths))]\n",
      "        \u001b[34mreturn\u001b[39;49;00m \u001b[36mself\u001b[39;49;00m.sig(out.squeeze())\n"
     ]
    }
   ],
   "source": [
    "!pygmentize train/model.py"
   ]
  },
  {
   "cell_type": "markdown",
   "metadata": {},
   "source": [
    "The important takeaway from the implementation provided is that there are three parameters that we may wish to tweak to improve the performance of our model. These are the embedding dimension, the hidden dimension and the size of the vocabulary. We will likely want to make these parameters configurable in the training script so that if we wish to modify them we do not need to modify the script itself. We will see how to do this later on. To start we will write some of the training code in the notebook so that we can more easily diagnose any issues that arise.\n",
    "\n",
    "First we will load a small portion of the training data set to use as a sample. It would be very time consuming to try and train the model completely in the notebook as we do not have access to a gpu and the compute instance that we are using is not particularly powerful. However, we can work on a small bit of the data to get a feel for how our training script is behaving."
   ]
  },
  {
   "cell_type": "code",
   "execution_count": 23,
   "metadata": {},
   "outputs": [],
   "source": [
    "import torch\n",
    "import torch.utils.data\n",
    "\n",
    "# Read in only the first 250 rows\n",
    "train_sample = pd.read_csv(os.path.join(data_dir, 'train.csv'), header=None, names=None, nrows=250)\n",
    "\n",
    "# Turn the input pandas dataframe into tensors\n",
    "train_sample_y = torch.from_numpy(train_sample[[0]].values).float().squeeze()\n",
    "train_sample_X = torch.from_numpy(train_sample.drop([0], axis=1).values).long()\n",
    "\n",
    "# Build the dataset\n",
    "train_sample_ds = torch.utils.data.TensorDataset(train_sample_X, train_sample_y)\n",
    "# Build the dataloader\n",
    "train_sample_dl = torch.utils.data.DataLoader(train_sample_ds, batch_size=50)"
   ]
  },
  {
   "cell_type": "markdown",
   "metadata": {},
   "source": [
    "### (TODO) Writing the training method\n",
    "\n",
    "Next we need to write the training code itself. This should be very similar to training methods that you have written before to train PyTorch models. We will leave any difficult aspects such as model saving / loading and parameter loading until a little later."
   ]
  },
  {
   "cell_type": "code",
   "execution_count": 24,
   "metadata": {},
   "outputs": [],
   "source": [
    "def train(model, train_loader, epochs, optimizer, loss_fn, device):\n",
    "    for epoch in range(1, epochs + 1):\n",
    "        model.train()\n",
    "        total_loss = 0\n",
    "        for batch in train_loader:         \n",
    "            batch_X, batch_y = batch\n",
    "            \n",
    "            batch_X = batch_X.to(device)\n",
    "            batch_y = batch_y.to(device)\n",
    "            \n",
    "            # TODO: Complete this train method to train the model provided.\n",
    "            optimizer.zero_grad()\n",
    "            \n",
    "            output = model(batch_X)\n",
    "            loss = loss_fn(output, batch_y)\n",
    "            loss.backward()\n",
    "            optimizer.step()\n",
    "            \n",
    "            total_loss += loss.data.item()\n",
    "        print(\"Epoch: {}, BCELoss: {}\".format(epoch, total_loss / len(train_loader)))"
   ]
  },
  {
   "cell_type": "markdown",
   "metadata": {},
   "source": [
    "<div style='background-color:lightblue;'> Done </div>"
   ]
  },
  {
   "cell_type": "markdown",
   "metadata": {},
   "source": [
    "Supposing we have the training method above, we will test that it is working by writing a bit of code in the notebook that executes our training method on the small sample training set that we loaded earlier. The reason for doing this in the notebook is so that we have an opportunity to fix any errors that arise early when they are easier to diagnose."
   ]
  },
  {
   "cell_type": "code",
   "execution_count": 25,
   "metadata": {},
   "outputs": [
    {
     "name": "stdout",
     "output_type": "stream",
     "text": [
      "Epoch: 1, BCELoss: 0.6920959830284119\n",
      "Epoch: 2, BCELoss: 0.6834630250930787\n",
      "Epoch: 3, BCELoss: 0.6759930729866028\n",
      "Epoch: 4, BCELoss: 0.6675902247428894\n",
      "Epoch: 5, BCELoss: 0.6570874691009522\n"
     ]
    }
   ],
   "source": [
    "import torch.optim as optim\n",
    "from train.model import LSTMClassifier\n",
    "\n",
    "device = torch.device(\"cuda\" if torch.cuda.is_available() else \"cpu\")\n",
    "model = LSTMClassifier(32, 100, 5000).to(device)\n",
    "optimizer = optim.Adam(model.parameters())\n",
    "loss_fn = torch.nn.BCELoss()\n",
    "\n",
    "train(model, train_sample_dl, 5, optimizer, loss_fn, device)"
   ]
  },
  {
   "cell_type": "markdown",
   "metadata": {},
   "source": [
    "In order to construct a PyTorch model using SageMaker we must provide SageMaker with a training script. We may optionally include a directory which will be copied to the container and from which our training code will be run. When the training container is executed it will check the uploaded directory (if there is one) for a `requirements.txt` file and install any required Python libraries, after which the training script will be run."
   ]
  },
  {
   "cell_type": "markdown",
   "metadata": {},
   "source": [
    "### (TODO) Training the model\n",
    "\n",
    "When a PyTorch model is constructed in SageMaker, an entry point must be specified. This is the Python file which will be executed when the model is trained. Inside of the `train` directory is a file called `train.py` which has been provided and which contains most of the necessary code to train our model. The only thing that is missing is the implementation of the `train()` method which you wrote earlier in this notebook.\n",
    "\n",
    "**TODO**: Copy the `train()` method written above and paste it into the `train/train.py` file where required.\n",
    "\n",
    "The way that SageMaker passes hyperparameters to the training script is by way of arguments. These arguments can then be parsed and used in the training script. To see how this is done take a look at the provided `train/train.py` file."
   ]
  },
  {
   "cell_type": "markdown",
   "metadata": {},
   "source": [
    "<div style='background-color:lightblue;'> Done </div>"
   ]
  },
  {
   "cell_type": "code",
   "execution_count": 26,
   "metadata": {},
   "outputs": [],
   "source": [
    "from sagemaker.pytorch import PyTorch\n",
    "\n",
    "estimator = PyTorch(entry_point=\"train.py\",\n",
    "                    source_dir=\"train\",\n",
    "                    role=role,\n",
    "                    framework_version='0.4.0',\n",
    "                    train_instance_count=1,\n",
    "                    train_instance_type='ml.p2.xlarge',\n",
    "                    hyperparameters={\n",
    "                        'epochs': 10,\n",
    "                        'hidden_dim': 200,\n",
    "                    })"
   ]
  },
  {
   "cell_type": "code",
   "execution_count": 27,
   "metadata": {},
   "outputs": [
    {
     "name": "stdout",
     "output_type": "stream",
     "text": [
      "2019-11-26 15:46:53 Starting - Starting the training job...\n",
      "2019-11-26 15:46:54 Starting - Launching requested ML instances......\n",
      "2019-11-26 15:47:56 Starting - Preparing the instances for training......\n",
      "2019-11-26 15:49:06 Downloading - Downloading input data...\n",
      "2019-11-26 15:49:31 Training - Downloading the training image..\u001b[31mbash: cannot set terminal process group (-1): Inappropriate ioctl for device\u001b[0m\n",
      "\u001b[31mbash: no job control in this shell\u001b[0m\n",
      "\u001b[31m2019-11-26 15:50:05,328 sagemaker-containers INFO     Imported framework sagemaker_pytorch_container.training\u001b[0m\n",
      "\u001b[31m2019-11-26 15:50:05,353 sagemaker_pytorch_container.training INFO     Block until all host DNS lookups succeed.\u001b[0m\n",
      "\u001b[31m2019-11-26 15:50:05,357 sagemaker_pytorch_container.training INFO     Invoking user training script.\u001b[0m\n",
      "\u001b[31m2019-11-26 15:50:05,618 sagemaker-containers INFO     Module train does not provide a setup.py. \u001b[0m\n",
      "\u001b[31mGenerating setup.py\u001b[0m\n",
      "\u001b[31m2019-11-26 15:50:05,618 sagemaker-containers INFO     Generating setup.cfg\u001b[0m\n",
      "\u001b[31m2019-11-26 15:50:05,619 sagemaker-containers INFO     Generating MANIFEST.in\u001b[0m\n",
      "\u001b[31m2019-11-26 15:50:05,619 sagemaker-containers INFO     Installing module with the following command:\u001b[0m\n",
      "\u001b[31m/usr/bin/python -m pip install -U . -r requirements.txt\u001b[0m\n",
      "\u001b[31mProcessing /opt/ml/code\u001b[0m\n",
      "\u001b[31mCollecting pandas (from -r requirements.txt (line 1))\u001b[0m\n",
      "\u001b[31m  Downloading https://files.pythonhosted.org/packages/74/24/0cdbf8907e1e3bc5a8da03345c23cbed7044330bb8f73bb12e711a640a00/pandas-0.24.2-cp35-cp35m-manylinux1_x86_64.whl (10.0MB)\u001b[0m\n",
      "\u001b[31mCollecting numpy (from -r requirements.txt (line 2))\n",
      "  Downloading https://files.pythonhosted.org/packages/ab/e9/2561dbfbc05146bffa02167e09b9902e273decb2dc4cd5c43314ede20312/numpy-1.17.4-cp35-cp35m-manylinux1_x86_64.whl (19.8MB)\u001b[0m\n",
      "\u001b[31mCollecting nltk (from -r requirements.txt (line 3))\n",
      "  Downloading https://files.pythonhosted.org/packages/f6/1d/d925cfb4f324ede997f6d47bea4d9babba51b49e87a767c170b77005889d/nltk-3.4.5.zip (1.5MB)\u001b[0m\n",
      "\u001b[31mCollecting beautifulsoup4 (from -r requirements.txt (line 4))\n",
      "  Downloading https://files.pythonhosted.org/packages/3b/c8/a55eb6ea11cd7e5ac4bacdf92bac4693b90d3ba79268be16527555e186f0/beautifulsoup4-4.8.1-py3-none-any.whl (101kB)\u001b[0m\n",
      "\u001b[31mCollecting html5lib (from -r requirements.txt (line 5))\n",
      "  Downloading https://files.pythonhosted.org/packages/a5/62/bbd2be0e7943ec8504b517e62bab011b4946e1258842bc159e5dfde15b96/html5lib-1.0.1-py2.py3-none-any.whl (117kB)\u001b[0m\n",
      "\u001b[31mRequirement already satisfied, skipping upgrade: python-dateutil>=2.5.0 in /usr/local/lib/python3.5/dist-packages (from pandas->-r requirements.txt (line 1)) (2.7.5)\u001b[0m\n",
      "\u001b[31mCollecting pytz>=2011k (from pandas->-r requirements.txt (line 1))\n",
      "  Downloading https://files.pythonhosted.org/packages/e7/f9/f0b53f88060247251bf481fa6ea62cd0d25bf1b11a87888e53ce5b7c8ad2/pytz-2019.3-py2.py3-none-any.whl (509kB)\u001b[0m\n",
      "\u001b[31mRequirement already satisfied, skipping upgrade: six in /usr/local/lib/python3.5/dist-packages (from nltk->-r requirements.txt (line 3)) (1.11.0)\u001b[0m\n",
      "\u001b[31mCollecting soupsieve>=1.2 (from beautifulsoup4->-r requirements.txt (line 4))\n",
      "  Downloading https://files.pythonhosted.org/packages/81/94/03c0f04471fc245d08d0a99f7946ac228ca98da4fa75796c507f61e688c2/soupsieve-1.9.5-py2.py3-none-any.whl\u001b[0m\n",
      "\u001b[31mCollecting webencodings (from html5lib->-r requirements.txt (line 5))\n",
      "  Downloading https://files.pythonhosted.org/packages/f4/24/2a3e3df732393fed8b3ebf2ec078f05546de641fe1b667ee316ec1dcf3b7/webencodings-0.5.1-py2.py3-none-any.whl\u001b[0m\n",
      "\u001b[31mBuilding wheels for collected packages: nltk, train\n",
      "  Running setup.py bdist_wheel for nltk: started\n",
      "  Running setup.py bdist_wheel for nltk: finished with status 'done'\n",
      "  Stored in directory: /root/.cache/pip/wheels/96/86/f6/68ab24c23f207c0077381a5e3904b2815136b879538a24b483\n",
      "  Running setup.py bdist_wheel for train: started\u001b[0m\n",
      "\n",
      "2019-11-26 15:50:04 Training - Training image download completed. Training in progress.\u001b[31m  Running setup.py bdist_wheel for train: finished with status 'done'\n",
      "  Stored in directory: /tmp/pip-ephem-wheel-cache-znww_m8d/wheels/35/24/16/37574d11bf9bde50616c67372a334f94fa8356bc7164af8ca3\u001b[0m\n",
      "\u001b[31mSuccessfully built nltk train\u001b[0m\n",
      "\u001b[31mInstalling collected packages: pytz, numpy, pandas, nltk, soupsieve, beautifulsoup4, webencodings, html5lib, train\n",
      "  Found existing installation: numpy 1.15.4\n",
      "    Uninstalling numpy-1.15.4:\u001b[0m\n",
      "\u001b[31m      Successfully uninstalled numpy-1.15.4\u001b[0m\n",
      "\u001b[31mSuccessfully installed beautifulsoup4-4.8.1 html5lib-1.0.1 nltk-3.4.5 numpy-1.17.4 pandas-0.24.2 pytz-2019.3 soupsieve-1.9.5 train-1.0.0 webencodings-0.5.1\u001b[0m\n",
      "\u001b[31mYou are using pip version 18.1, however version 19.3.1 is available.\u001b[0m\n",
      "\u001b[31mYou should consider upgrading via the 'pip install --upgrade pip' command.\u001b[0m\n",
      "\u001b[31m2019-11-26 15:50:17,350 sagemaker-containers INFO     Invoking user script\n",
      "\u001b[0m\n",
      "\u001b[31mTraining Env:\n",
      "\u001b[0m\n",
      "\u001b[31m{\n",
      "    \"model_dir\": \"/opt/ml/model\",\n",
      "    \"input_config_dir\": \"/opt/ml/input/config\",\n",
      "    \"resource_config\": {\n",
      "        \"hosts\": [\n",
      "            \"algo-1\"\n",
      "        ],\n",
      "        \"current_host\": \"algo-1\",\n",
      "        \"network_interface_name\": \"eth0\"\n",
      "    },\n",
      "    \"network_interface_name\": \"eth0\",\n",
      "    \"module_name\": \"train\",\n",
      "    \"current_host\": \"algo-1\",\n",
      "    \"log_level\": 20,\n",
      "    \"framework_module\": \"sagemaker_pytorch_container.training:main\",\n",
      "    \"num_gpus\": 1,\n",
      "    \"module_dir\": \"s3://sagemaker-ap-southeast-1-366643120368/sagemaker-pytorch-2019-11-26-15-46-52-281/source/sourcedir.tar.gz\",\n",
      "    \"output_dir\": \"/opt/ml/output\",\n",
      "    \"output_data_dir\": \"/opt/ml/output/data\",\n",
      "    \"user_entry_point\": \"train.py\",\n",
      "    \"input_data_config\": {\n",
      "        \"training\": {\n",
      "            \"TrainingInputMode\": \"File\",\n",
      "            \"RecordWrapperType\": \"None\",\n",
      "            \"S3DistributionType\": \"FullyReplicated\"\n",
      "        }\n",
      "    },\n",
      "    \"input_dir\": \"/opt/ml/input\",\n",
      "    \"additional_framework_parameters\": {},\n",
      "    \"num_cpus\": 4,\n",
      "    \"job_name\": \"sagemaker-pytorch-2019-11-26-15-46-52-281\",\n",
      "    \"output_intermediate_dir\": \"/opt/ml/output/intermediate\",\n",
      "    \"channel_input_dirs\": {\n",
      "        \"training\": \"/opt/ml/input/data/training\"\n",
      "    },\n",
      "    \"hyperparameters\": {\n",
      "        \"hidden_dim\": 200,\n",
      "        \"epochs\": 10\n",
      "    },\n",
      "    \"hosts\": [\n",
      "        \"algo-1\"\n",
      "    ]\u001b[0m\n",
      "\u001b[31m}\n",
      "\u001b[0m\n",
      "\u001b[31mEnvironment variables:\n",
      "\u001b[0m\n",
      "\u001b[31mSM_RESOURCE_CONFIG={\"current_host\":\"algo-1\",\"hosts\":[\"algo-1\"],\"network_interface_name\":\"eth0\"}\u001b[0m\n",
      "\u001b[31mSM_INPUT_DATA_CONFIG={\"training\":{\"RecordWrapperType\":\"None\",\"S3DistributionType\":\"FullyReplicated\",\"TrainingInputMode\":\"File\"}}\u001b[0m\n",
      "\u001b[31mSM_CURRENT_HOST=algo-1\u001b[0m\n",
      "\u001b[31mSM_HPS={\"epochs\":10,\"hidden_dim\":200}\u001b[0m\n",
      "\u001b[31mSM_NETWORK_INTERFACE_NAME=eth0\u001b[0m\n",
      "\u001b[31mSM_OUTPUT_DIR=/opt/ml/output\u001b[0m\n",
      "\u001b[31mSM_NUM_GPUS=1\u001b[0m\n",
      "\u001b[31mSM_LOG_LEVEL=20\u001b[0m\n",
      "\u001b[31mSM_USER_ENTRY_POINT=train.py\u001b[0m\n",
      "\u001b[31mSM_MODEL_DIR=/opt/ml/model\u001b[0m\n",
      "\u001b[31mSM_TRAINING_ENV={\"additional_framework_parameters\":{},\"channel_input_dirs\":{\"training\":\"/opt/ml/input/data/training\"},\"current_host\":\"algo-1\",\"framework_module\":\"sagemaker_pytorch_container.training:main\",\"hosts\":[\"algo-1\"],\"hyperparameters\":{\"epochs\":10,\"hidden_dim\":200},\"input_config_dir\":\"/opt/ml/input/config\",\"input_data_config\":{\"training\":{\"RecordWrapperType\":\"None\",\"S3DistributionType\":\"FullyReplicated\",\"TrainingInputMode\":\"File\"}},\"input_dir\":\"/opt/ml/input\",\"job_name\":\"sagemaker-pytorch-2019-11-26-15-46-52-281\",\"log_level\":20,\"model_dir\":\"/opt/ml/model\",\"module_dir\":\"s3://sagemaker-ap-southeast-1-366643120368/sagemaker-pytorch-2019-11-26-15-46-52-281/source/sourcedir.tar.gz\",\"module_name\":\"train\",\"network_interface_name\":\"eth0\",\"num_cpus\":4,\"num_gpus\":1,\"output_data_dir\":\"/opt/ml/output/data\",\"output_dir\":\"/opt/ml/output\",\"output_intermediate_dir\":\"/opt/ml/output/intermediate\",\"resource_config\":{\"current_host\":\"algo-1\",\"hosts\":[\"algo-1\"],\"network_interface_name\":\"eth0\"},\"user_entry_point\":\"train.py\"}\u001b[0m\n",
      "\u001b[31mSM_HP_HIDDEN_DIM=200\u001b[0m\n",
      "\u001b[31mSM_NUM_CPUS=4\u001b[0m\n",
      "\u001b[31mSM_CHANNEL_TRAINING=/opt/ml/input/data/training\u001b[0m\n",
      "\u001b[31mSM_INPUT_DIR=/opt/ml/input\u001b[0m\n",
      "\u001b[31mSM_HOSTS=[\"algo-1\"]\u001b[0m\n",
      "\u001b[31mSM_FRAMEWORK_PARAMS={}\u001b[0m\n",
      "\u001b[31mSM_USER_ARGS=[\"--epochs\",\"10\",\"--hidden_dim\",\"200\"]\u001b[0m\n",
      "\u001b[31mSM_FRAMEWORK_MODULE=sagemaker_pytorch_container.training:main\u001b[0m\n",
      "\u001b[31mPYTHONPATH=/usr/local/bin:/usr/lib/python35.zip:/usr/lib/python3.5:/usr/lib/python3.5/plat-x86_64-linux-gnu:/usr/lib/python3.5/lib-dynload:/usr/local/lib/python3.5/dist-packages:/usr/lib/python3/dist-packages\u001b[0m\n",
      "\u001b[31mSM_MODULE_NAME=train\u001b[0m\n",
      "\u001b[31mSM_CHANNELS=[\"training\"]\u001b[0m\n",
      "\u001b[31mSM_HP_EPOCHS=10\u001b[0m\n",
      "\u001b[31mSM_OUTPUT_DATA_DIR=/opt/ml/output/data\u001b[0m\n",
      "\u001b[31mSM_INPUT_CONFIG_DIR=/opt/ml/input/config\u001b[0m\n",
      "\u001b[31mSM_OUTPUT_INTERMEDIATE_DIR=/opt/ml/output/intermediate\u001b[0m\n",
      "\u001b[31mSM_MODULE_DIR=s3://sagemaker-ap-southeast-1-366643120368/sagemaker-pytorch-2019-11-26-15-46-52-281/source/sourcedir.tar.gz\n",
      "\u001b[0m\n",
      "\u001b[31mInvoking script with the following command:\n",
      "\u001b[0m\n",
      "\u001b[31m/usr/bin/python -m train --epochs 10 --hidden_dim 200\n",
      "\n",
      "\u001b[0m\n",
      "\u001b[31mUsing device cuda.\u001b[0m\n",
      "\u001b[31mGet train data loader.\u001b[0m\n",
      "\u001b[31mModel loaded with embedding_dim 32, hidden_dim 200, vocab_size 5000.\u001b[0m\n",
      "\u001b[31mEpoch: 1, BCELoss: 0.6762915898342522\u001b[0m\n",
      "\u001b[31mEpoch: 2, BCELoss: 0.6066336583118049\u001b[0m\n",
      "\u001b[31mEpoch: 3, BCELoss: 0.5254628390681987\u001b[0m\n",
      "\u001b[31mEpoch: 4, BCELoss: 0.4597353600725836\u001b[0m\n",
      "\u001b[31mEpoch: 5, BCELoss: 0.40662286597855235\u001b[0m\n",
      "\u001b[31mEpoch: 6, BCELoss: 0.3591309639872337\u001b[0m\n",
      "\u001b[31mEpoch: 7, BCELoss: 0.34119974593726954\u001b[0m\n",
      "\u001b[31mEpoch: 8, BCELoss: 0.4037462357355624\u001b[0m\n",
      "\u001b[31mEpoch: 9, BCELoss: 0.31590175263735715\u001b[0m\n",
      "\n",
      "2019-11-26 15:53:22 Uploading - Uploading generated training model\n",
      "2019-11-26 15:53:22 Completed - Training job completed\n",
      "\u001b[31mEpoch: 10, BCELoss: 0.3434427082538605\u001b[0m\n",
      "\u001b[31m2019-11-26 15:53:14,372 sagemaker-containers INFO     Reporting training SUCCESS\u001b[0m\n",
      "Training seconds: 256\n",
      "Billable seconds: 256\n"
     ]
    }
   ],
   "source": [
    "estimator.fit({'training': input_data})"
   ]
  },
  {
   "cell_type": "markdown",
   "metadata": {},
   "source": [
    "## Step 5: Testing the model\n",
    "\n",
    "As mentioned at the top of this notebook, we will be testing this model by first deploying it and then sending the testing data to the deployed endpoint. We will do this so that we can make sure that the deployed model is working correctly.\n",
    "\n",
    "## Step 6: Deploy the model for testing\n",
    "\n",
    "Now that we have trained our model, we would like to test it to see how it performs. Currently our model takes input of the form `review_length, review[500]` where `review[500]` is a sequence of `500` integers which describe the words present in the review, encoded using `word_dict`. Fortunately for us, SageMaker provides built-in inference code for models with simple inputs such as this.\n",
    "\n",
    "There is one thing that we need to provide, however, and that is a function which loads the saved model. This function must be called `model_fn()` and takes as its only parameter a path to the directory where the model artifacts are stored. This function must also be present in the python file which we specified as the entry point. In our case the model loading function has been provided and so no changes need to be made.\n",
    "\n",
    "**NOTE**: When the built-in inference code is run it must import the `model_fn()` method from the `train.py` file. This is why the training code is wrapped in a main guard ( ie, `if __name__ == '__main__':` )\n",
    "\n",
    "Since we don't need to change anything in the code that was uploaded during training, we can simply deploy the current model as-is.\n",
    "\n",
    "**NOTE:** When deploying a model you are asking SageMaker to launch an compute instance that will wait for data to be sent to it. As a result, this compute instance will continue to run until *you* shut it down. This is important to know since the cost of a deployed endpoint depends on how long it has been running for.\n",
    "\n",
    "In other words **If you are no longer using a deployed endpoint, shut it down!**\n",
    "\n",
    "**TODO:** Deploy the trained model."
   ]
  },
  {
   "cell_type": "markdown",
   "metadata": {},
   "source": [
    "<div style='background-color:lightblue;'> Done </div>"
   ]
  },
  {
   "cell_type": "code",
   "execution_count": 64,
   "metadata": {},
   "outputs": [
    {
     "name": "stderr",
     "output_type": "stream",
     "text": [
      "Using already existing model: sagemaker-pytorch-2019-11-26-15-46-52-281\n"
     ]
    },
    {
     "name": "stdout",
     "output_type": "stream",
     "text": [
      "--------------------------------------------------------------------------------------------------------------!"
     ]
    }
   ],
   "source": [
    "# TODO: Deploy the trained model\n",
    "predictor = estimator.deploy(initial_instance_count=1, instance_type='ml.p2.xlarge')"
   ]
  },
  {
   "cell_type": "markdown",
   "metadata": {},
   "source": [
    "## Step 7 - Use the model for testing\n",
    "\n",
    "Once deployed, we can read in the test data and send it off to our deployed model to get some results. Once we collect all of the results we can determine how accurate our model is."
   ]
  },
  {
   "cell_type": "code",
   "execution_count": 29,
   "metadata": {},
   "outputs": [],
   "source": [
    "test_X = pd.concat([pd.DataFrame(test_X_len), pd.DataFrame(test_X)], axis=1)"
   ]
  },
  {
   "cell_type": "code",
   "execution_count": 30,
   "metadata": {},
   "outputs": [],
   "source": [
    "# We split the data into chunks and send each chunk seperately, accumulating the results.\n",
    "\n",
    "def predict(data, rows=512):\n",
    "    split_array = np.array_split(data, int(data.shape[0] / float(rows) + 1))\n",
    "    predictions = np.array([])\n",
    "    for array in split_array:\n",
    "        predictions = np.append(predictions, predictor.predict(array))\n",
    "    \n",
    "    return predictions"
   ]
  },
  {
   "cell_type": "code",
   "execution_count": 31,
   "metadata": {},
   "outputs": [],
   "source": [
    "predictions = predict(test_X.values)\n",
    "predictions = [round(num) for num in predictions]"
   ]
  },
  {
   "cell_type": "code",
   "execution_count": 32,
   "metadata": {},
   "outputs": [
    {
     "data": {
      "text/plain": [
       "0.85164"
      ]
     },
     "execution_count": 32,
     "metadata": {},
     "output_type": "execute_result"
    }
   ],
   "source": [
    "from sklearn.metrics import accuracy_score\n",
    "accuracy_score(test_y, predictions)"
   ]
  },
  {
   "cell_type": "markdown",
   "metadata": {},
   "source": [
    "**Question:** How does this model compare to the XGBoost model you created earlier? Why might these two models perform differently on this dataset? Which do *you* think is better for sentiment analysis?"
   ]
  },
  {
   "cell_type": "markdown",
   "metadata": {},
   "source": [
    "**Answer:**\n",
    "\n",
    "<div style='background-color:lightblue;'> \n",
    "\n",
    "The XGBoost model in the lecture video gave an accuracy score of 0.86116, which is slightly better than the current LSTM model.\n",
    "    \n",
    "This may due to the simple architecture of our LSTM network. \n",
    "If we vary the number of layers and neutron units in our network, we may better capture the context and semantics of the input text and give better results.\n",
    "LSTM might be a better choice for sentiment analysis.\n",
    "    \n",
    "</div>"
   ]
  },
  {
   "cell_type": "markdown",
   "metadata": {},
   "source": [
    "### (TODO) More testing\n",
    "\n",
    "We now have a trained model which has been deployed and which we can send processed reviews to and which returns the predicted sentiment. However, ultimately we would like to be able to send our model an unprocessed review. That is, we would like to send the review itself as a string. For example, suppose we wish to send the following review to our model."
   ]
  },
  {
   "cell_type": "code",
   "execution_count": 33,
   "metadata": {},
   "outputs": [],
   "source": [
    "test_review = 'The simplest pleasures in life are the best, and this film is one of them. Combining a rather basic storyline of love and adventure this movie transcends the usual weekend fair with wit and unmitigated charm.'"
   ]
  },
  {
   "cell_type": "markdown",
   "metadata": {},
   "source": [
    "The question we now need to answer is, how do we send this review to our model?\n",
    "\n",
    "Recall in the first section of this notebook we did a bunch of data processing to the IMDb dataset. In particular, we did two specific things to the provided reviews.\n",
    " - Removed any html tags and stemmed the input\n",
    " - Encoded the review as a sequence of integers using `word_dict`\n",
    " \n",
    "In order process the review we will need to repeat these two steps.\n",
    "\n",
    "**TODO**: Using the `review_to_words` and `convert_and_pad` methods from section one, convert `test_review` into a numpy array `test_data` suitable to send to our model. Remember that our model expects input of the form `review_length, review[500]`."
   ]
  },
  {
   "cell_type": "code",
   "execution_count": 60,
   "metadata": {},
   "outputs": [],
   "source": [
    "# TODO: Convert test_review into a form usable by the model and save the results in test_data\n",
    "sent, l = convert_and_pad(word_dict, review_to_words(test_review))\n",
    "test_data = np.array([l, *sent]).reshape(1, -1)"
   ]
  },
  {
   "cell_type": "markdown",
   "metadata": {},
   "source": [
    "Now that we have processed the review, we can send the resulting array to our model to predict the sentiment of the review."
   ]
  },
  {
   "cell_type": "code",
   "execution_count": 65,
   "metadata": {},
   "outputs": [
    {
     "data": {
      "text/plain": [
       "array(0.8989146, dtype=float32)"
      ]
     },
     "execution_count": 65,
     "metadata": {},
     "output_type": "execute_result"
    }
   ],
   "source": [
    "predictor.predict(test_data)"
   ]
  },
  {
   "cell_type": "markdown",
   "metadata": {},
   "source": [
    "<div style='background-color:lightblue;'> Done </div>"
   ]
  },
  {
   "cell_type": "markdown",
   "metadata": {},
   "source": [
    "Since the return value of our model is close to `1`, we can be certain that the review we submitted is positive."
   ]
  },
  {
   "cell_type": "markdown",
   "metadata": {},
   "source": [
    "### Delete the endpoint\n",
    "\n",
    "Of course, just like in the XGBoost notebook, once we've deployed an endpoint it continues to run until we tell it to shut down. Since we are done using our endpoint for now, we can delete it."
   ]
  },
  {
   "cell_type": "code",
   "execution_count": 66,
   "metadata": {},
   "outputs": [],
   "source": [
    "estimator.delete_endpoint()"
   ]
  },
  {
   "cell_type": "markdown",
   "metadata": {},
   "source": [
    "## Step 6 (again) - Deploy the model for the web app\n",
    "\n",
    "Now that we know that our model is working, it's time to create some custom inference code so that we can send the model a review which has not been processed and have it determine the sentiment of the review.\n",
    "\n",
    "As we saw above, by default the estimator which we created, when deployed, will use the entry script and directory which we provided when creating the model. However, since we now wish to accept a string as input and our model expects a processed review, we need to write some custom inference code.\n",
    "\n",
    "We will store the code that we write in the `serve` directory. Provided in this directory is the `model.py` file that we used to construct our model, a `utils.py` file which contains the `review_to_words` and `convert_and_pad` pre-processing functions which we used during the initial data processing, and `predict.py`, the file which will contain our custom inference code. Note also that `requirements.txt` is present which will tell SageMaker what Python libraries are required by our custom inference code.\n",
    "\n",
    "When deploying a PyTorch model in SageMaker, you are expected to provide four functions which the SageMaker inference container will use.\n",
    " - `model_fn`: This function is the same function that we used in the training script and it tells SageMaker how to load our model.\n",
    " - `input_fn`: This function receives the raw serialized input that has been sent to the model's endpoint and its job is to de-serialize and make the input available for the inference code.\n",
    " - `output_fn`: This function takes the output of the inference code and its job is to serialize this output and return it to the caller of the model's endpoint.\n",
    " - `predict_fn`: The heart of the inference script, this is where the actual prediction is done and is the function which you will need to complete.\n",
    "\n",
    "For the simple website that we are constructing during this project, the `input_fn` and `output_fn` methods are relatively straightforward. We only require being able to accept a string as input and we expect to return a single value as output. You might imagine though that in a more complex application the input or output may be image data or some other binary data which would require some effort to serialize.\n",
    "\n",
    "### (TODO) Writing inference code\n",
    "\n",
    "Before writing our custom inference code, we will begin by taking a look at the code which has been provided."
   ]
  },
  {
   "cell_type": "code",
   "execution_count": 59,
   "metadata": {},
   "outputs": [
    {
     "name": "stdout",
     "output_type": "stream",
     "text": [
      "\u001b[34mimport\u001b[39;49;00m \u001b[04m\u001b[36margparse\u001b[39;49;00m\n",
      "\u001b[34mimport\u001b[39;49;00m \u001b[04m\u001b[36mjson\u001b[39;49;00m\n",
      "\u001b[34mimport\u001b[39;49;00m \u001b[04m\u001b[36mos\u001b[39;49;00m\n",
      "\u001b[34mimport\u001b[39;49;00m \u001b[04m\u001b[36mpickle\u001b[39;49;00m\n",
      "\u001b[34mimport\u001b[39;49;00m \u001b[04m\u001b[36msys\u001b[39;49;00m\n",
      "\u001b[34mimport\u001b[39;49;00m \u001b[04m\u001b[36msagemaker_containers\u001b[39;49;00m\n",
      "\u001b[34mimport\u001b[39;49;00m \u001b[04m\u001b[36mpandas\u001b[39;49;00m \u001b[34mas\u001b[39;49;00m \u001b[04m\u001b[36mpd\u001b[39;49;00m\n",
      "\u001b[34mimport\u001b[39;49;00m \u001b[04m\u001b[36mnumpy\u001b[39;49;00m \u001b[34mas\u001b[39;49;00m \u001b[04m\u001b[36mnp\u001b[39;49;00m\n",
      "\u001b[34mimport\u001b[39;49;00m \u001b[04m\u001b[36mtorch\u001b[39;49;00m\n",
      "\u001b[34mimport\u001b[39;49;00m \u001b[04m\u001b[36mtorch.nn\u001b[39;49;00m \u001b[34mas\u001b[39;49;00m \u001b[04m\u001b[36mnn\u001b[39;49;00m\n",
      "\u001b[34mimport\u001b[39;49;00m \u001b[04m\u001b[36mtorch.optim\u001b[39;49;00m \u001b[34mas\u001b[39;49;00m \u001b[04m\u001b[36moptim\u001b[39;49;00m\n",
      "\u001b[34mimport\u001b[39;49;00m \u001b[04m\u001b[36mtorch.utils.data\u001b[39;49;00m\n",
      "\n",
      "\u001b[34mfrom\u001b[39;49;00m \u001b[04m\u001b[36mmodel\u001b[39;49;00m \u001b[34mimport\u001b[39;49;00m LSTMClassifier\n",
      "\n",
      "\u001b[34mfrom\u001b[39;49;00m \u001b[04m\u001b[36mutils\u001b[39;49;00m \u001b[34mimport\u001b[39;49;00m review_to_words, convert_and_pad\n",
      "\n",
      "\u001b[34mdef\u001b[39;49;00m \u001b[32mmodel_fn\u001b[39;49;00m(model_dir):\n",
      "    \u001b[33m\"\"\"Load the PyTorch model from the `model_dir` directory.\"\"\"\u001b[39;49;00m\n",
      "    \u001b[34mprint\u001b[39;49;00m(\u001b[33m\"\u001b[39;49;00m\u001b[33mLoading model.\u001b[39;49;00m\u001b[33m\"\u001b[39;49;00m)\n",
      "\n",
      "    \u001b[37m# First, load the parameters used to create the model.\u001b[39;49;00m\n",
      "    model_info = {}\n",
      "    model_info_path = os.path.join(model_dir, \u001b[33m'\u001b[39;49;00m\u001b[33mmodel_info.pth\u001b[39;49;00m\u001b[33m'\u001b[39;49;00m)\n",
      "    \u001b[34mwith\u001b[39;49;00m \u001b[36mopen\u001b[39;49;00m(model_info_path, \u001b[33m'\u001b[39;49;00m\u001b[33mrb\u001b[39;49;00m\u001b[33m'\u001b[39;49;00m) \u001b[34mas\u001b[39;49;00m f:\n",
      "        model_info = torch.load(f)\n",
      "\n",
      "    \u001b[34mprint\u001b[39;49;00m(\u001b[33m\"\u001b[39;49;00m\u001b[33mmodel_info: {}\u001b[39;49;00m\u001b[33m\"\u001b[39;49;00m.format(model_info))\n",
      "\n",
      "    \u001b[37m# Determine the device and construct the model.\u001b[39;49;00m\n",
      "    device = torch.device(\u001b[33m\"\u001b[39;49;00m\u001b[33mcuda\u001b[39;49;00m\u001b[33m\"\u001b[39;49;00m \u001b[34mif\u001b[39;49;00m torch.cuda.is_available() \u001b[34melse\u001b[39;49;00m \u001b[33m\"\u001b[39;49;00m\u001b[33mcpu\u001b[39;49;00m\u001b[33m\"\u001b[39;49;00m)\n",
      "    model = LSTMClassifier(model_info[\u001b[33m'\u001b[39;49;00m\u001b[33membedding_dim\u001b[39;49;00m\u001b[33m'\u001b[39;49;00m], model_info[\u001b[33m'\u001b[39;49;00m\u001b[33mhidden_dim\u001b[39;49;00m\u001b[33m'\u001b[39;49;00m], model_info[\u001b[33m'\u001b[39;49;00m\u001b[33mvocab_size\u001b[39;49;00m\u001b[33m'\u001b[39;49;00m])\n",
      "\n",
      "    \u001b[37m# Load the store model parameters.\u001b[39;49;00m\n",
      "    model_path = os.path.join(model_dir, \u001b[33m'\u001b[39;49;00m\u001b[33mmodel.pth\u001b[39;49;00m\u001b[33m'\u001b[39;49;00m)\n",
      "    \u001b[34mwith\u001b[39;49;00m \u001b[36mopen\u001b[39;49;00m(model_path, \u001b[33m'\u001b[39;49;00m\u001b[33mrb\u001b[39;49;00m\u001b[33m'\u001b[39;49;00m) \u001b[34mas\u001b[39;49;00m f:\n",
      "        model.load_state_dict(torch.load(f))\n",
      "\n",
      "    \u001b[37m# Load the saved word_dict.\u001b[39;49;00m\n",
      "    word_dict_path = os.path.join(model_dir, \u001b[33m'\u001b[39;49;00m\u001b[33mword_dict.pkl\u001b[39;49;00m\u001b[33m'\u001b[39;49;00m)\n",
      "    \u001b[34mwith\u001b[39;49;00m \u001b[36mopen\u001b[39;49;00m(word_dict_path, \u001b[33m'\u001b[39;49;00m\u001b[33mrb\u001b[39;49;00m\u001b[33m'\u001b[39;49;00m) \u001b[34mas\u001b[39;49;00m f:\n",
      "        model.word_dict = pickle.load(f)\n",
      "\n",
      "    model.to(device).eval()\n",
      "\n",
      "    \u001b[34mprint\u001b[39;49;00m(\u001b[33m\"\u001b[39;49;00m\u001b[33mDone loading model.\u001b[39;49;00m\u001b[33m\"\u001b[39;49;00m)\n",
      "    \u001b[34mreturn\u001b[39;49;00m model\n",
      "\n",
      "\u001b[34mdef\u001b[39;49;00m \u001b[32minput_fn\u001b[39;49;00m(serialized_input_data, content_type):\n",
      "    \u001b[34mprint\u001b[39;49;00m(\u001b[33m'\u001b[39;49;00m\u001b[33mDeserializing the input data.\u001b[39;49;00m\u001b[33m'\u001b[39;49;00m)\n",
      "    \u001b[34mif\u001b[39;49;00m content_type == \u001b[33m'\u001b[39;49;00m\u001b[33mtext/plain\u001b[39;49;00m\u001b[33m'\u001b[39;49;00m:\n",
      "        data = serialized_input_data.decode(\u001b[33m'\u001b[39;49;00m\u001b[33mutf-8\u001b[39;49;00m\u001b[33m'\u001b[39;49;00m)\n",
      "        \u001b[34mreturn\u001b[39;49;00m data\n",
      "    \u001b[34mraise\u001b[39;49;00m \u001b[36mException\u001b[39;49;00m(\u001b[33m'\u001b[39;49;00m\u001b[33mRequested unsupported ContentType in content_type: \u001b[39;49;00m\u001b[33m'\u001b[39;49;00m + content_type)\n",
      "\n",
      "\u001b[34mdef\u001b[39;49;00m \u001b[32moutput_fn\u001b[39;49;00m(prediction_output, accept):\n",
      "    \u001b[34mprint\u001b[39;49;00m(\u001b[33m'\u001b[39;49;00m\u001b[33mSerializing the generated output.\u001b[39;49;00m\u001b[33m'\u001b[39;49;00m)\n",
      "    \u001b[34mreturn\u001b[39;49;00m \u001b[36mstr\u001b[39;49;00m(prediction_output)\n",
      "\n",
      "\u001b[34mdef\u001b[39;49;00m \u001b[32mpredict_fn\u001b[39;49;00m(input_data, model):\n",
      "    \u001b[34mprint\u001b[39;49;00m(\u001b[33m'\u001b[39;49;00m\u001b[33mInferring sentiment of input data.\u001b[39;49;00m\u001b[33m'\u001b[39;49;00m)\n",
      "\n",
      "    device = torch.device(\u001b[33m\"\u001b[39;49;00m\u001b[33mcuda\u001b[39;49;00m\u001b[33m\"\u001b[39;49;00m \u001b[34mif\u001b[39;49;00m torch.cuda.is_available() \u001b[34melse\u001b[39;49;00m \u001b[33m\"\u001b[39;49;00m\u001b[33mcpu\u001b[39;49;00m\u001b[33m\"\u001b[39;49;00m)\n",
      "    \n",
      "    \u001b[34mif\u001b[39;49;00m model.word_dict \u001b[35mis\u001b[39;49;00m \u001b[36mNone\u001b[39;49;00m:\n",
      "        \u001b[34mraise\u001b[39;49;00m \u001b[36mException\u001b[39;49;00m(\u001b[33m'\u001b[39;49;00m\u001b[33mModel has not been loaded properly, no word_dict.\u001b[39;49;00m\u001b[33m'\u001b[39;49;00m)\n",
      "    \n",
      "    \u001b[37m# TODO: Process input_data so that it is ready to be sent to our model.\u001b[39;49;00m\n",
      "    \u001b[37m#       You should produce two variables:\u001b[39;49;00m\n",
      "    \u001b[37m#         data_X   - A sequence of length 500 which represents the converted review\u001b[39;49;00m\n",
      "    \u001b[37m#         data_len - The length of the review\u001b[39;49;00m\n",
      "\n",
      "    data_X = \u001b[36mNone\u001b[39;49;00m\n",
      "    data_len = \u001b[36mNone\u001b[39;49;00m\n",
      "\n",
      "    \u001b[37m# Using data_X and data_len we construct an appropriate input tensor. Remember\u001b[39;49;00m\n",
      "    \u001b[37m# that our model expects input data of the form 'len, review[500]'.\u001b[39;49;00m\n",
      "    data_pack = np.hstack((data_len, data_X))\n",
      "    data_pack = data_pack.reshape(\u001b[34m1\u001b[39;49;00m, -\u001b[34m1\u001b[39;49;00m)\n",
      "    \n",
      "    data = torch.from_numpy(data_pack)\n",
      "    data = data.to(device)\n",
      "\n",
      "    \u001b[37m# Make sure to put the model into evaluation mode\u001b[39;49;00m\n",
      "    model.eval()\n",
      "\n",
      "    \u001b[37m# TODO: Compute the result of applying the model to the input data. The variable `result` should\u001b[39;49;00m\n",
      "    \u001b[37m#       be a numpy array which contains a single integer which is either 1 or 0\u001b[39;49;00m\n",
      "\n",
      "    result = \u001b[36mNone\u001b[39;49;00m\n",
      "\n",
      "    \u001b[34mreturn\u001b[39;49;00m result\n"
     ]
    }
   ],
   "source": [
    "!pygmentize serve/predict.py"
   ]
  },
  {
   "cell_type": "markdown",
   "metadata": {},
   "source": [
    "As mentioned earlier, the `model_fn` method is the same as the one provided in the training code and the `input_fn` and `output_fn` methods are very simple and your task will be to complete the `predict_fn` method. Make sure that you save the completed file as `predict.py` in the `serve` directory.\n",
    "\n",
    "**TODO**: Complete the `predict_fn()` method in the `serve/predict.py` file.\n",
    "\n"
   ]
  },
  {
   "cell_type": "markdown",
   "metadata": {},
   "source": [
    "<div style='background-color:lightblue;'> Done </div>"
   ]
  },
  {
   "cell_type": "markdown",
   "metadata": {},
   "source": [
    "### Deploying the model\n",
    "\n",
    "Now that the custom inference code has been written, we will create and deploy our model. To begin with, we need to construct a new PyTorchModel object which points to the model artifacts created during training and also points to the inference code that we wish to use. Then we can call the deploy method to launch the deployment container.\n",
    "\n",
    "**NOTE**: The default behaviour for a deployed PyTorch model is to assume that any input passed to the predictor is a `numpy` array. In our case we want to send a string so we need to construct a simple wrapper around the `RealTimePredictor` class to accomodate simple strings. In a more complicated situation you may want to provide a serialization object, for example if you wanted to sent image data."
   ]
  },
  {
   "cell_type": "code",
   "execution_count": 118,
   "metadata": {},
   "outputs": [
    {
     "name": "stdout",
     "output_type": "stream",
     "text": [
      "--------------------------------------------------------------------------------------------------------------!"
     ]
    }
   ],
   "source": [
    "from sagemaker.predictor import RealTimePredictor\n",
    "from sagemaker.pytorch import PyTorchModel\n",
    "\n",
    "class StringPredictor(RealTimePredictor):\n",
    "    def __init__(self, endpoint_name, sagemaker_session):\n",
    "        super(StringPredictor, self).__init__(endpoint_name, sagemaker_session, content_type='text/plain')\n",
    "\n",
    "model = PyTorchModel(model_data=estimator.model_data,\n",
    "                     role = role,\n",
    "                     framework_version='0.4.0',\n",
    "                     entry_point='predict.py',\n",
    "                     source_dir='serve',\n",
    "                     predictor_cls=StringPredictor)\n",
    "predictor = model.deploy(initial_instance_count=1, instance_type='ml.p2.xlarge')"
   ]
  },
  {
   "cell_type": "markdown",
   "metadata": {},
   "source": [
    "### Testing the model\n",
    "\n",
    "Now that we have deployed our model with the custom inference code, we should test to see if everything is working. Here we test our model by loading the first `250` positive and negative reviews and send them to the endpoint, then collect the results. The reason for only sending some of the data is that the amount of time it takes for our model to process the input and then perform inference is quite long and so testing the entire data set would be prohibitive."
   ]
  },
  {
   "cell_type": "code",
   "execution_count": 125,
   "metadata": {},
   "outputs": [],
   "source": [
    "import glob\n",
    "\n",
    "def test_reviews(data_dir='../data/aclImdb', stop=250):\n",
    "    \n",
    "    results = []\n",
    "    ground = []\n",
    "    \n",
    "    # We make sure to test both positive and negative reviews    \n",
    "    for sentiment in ['pos', 'neg']:\n",
    "        \n",
    "        path = os.path.join(data_dir, 'test', sentiment, '*.txt')\n",
    "        files = glob.glob(path)\n",
    "        \n",
    "        files_read = 0\n",
    "        \n",
    "        print('Starting ', sentiment, ' files')\n",
    "        \n",
    "        # Iterate through the files and send them to the predictor\n",
    "        for f in files:\n",
    "            with open(f) as review:\n",
    "                # First, we store the ground truth (was the review positive or negative)\n",
    "                if sentiment == 'pos':\n",
    "                    ground.append(1)\n",
    "                else:\n",
    "                    ground.append(0)\n",
    "                # Read in the review and convert to 'utf-8' for transmission via HTTP\n",
    "                review_input = review.read().encode('utf-8')\n",
    "                # Send the review to the predictor and store the results\n",
    "                results.append(float(predictor.predict(review_input)))\n",
    "                \n",
    "            # Sending reviews to our endpoint one at a time takes a while so we\n",
    "            # only send a small number of reviews\n",
    "            files_read += 1\n",
    "            if files_read == stop:\n",
    "                break\n",
    "            \n",
    "    return ground, results"
   ]
  },
  {
   "cell_type": "code",
   "execution_count": 126,
   "metadata": {},
   "outputs": [
    {
     "name": "stdout",
     "output_type": "stream",
     "text": [
      "Starting  pos  files\n",
      "Starting  neg  files\n"
     ]
    }
   ],
   "source": [
    "ground, results = test_reviews()"
   ]
  },
  {
   "cell_type": "code",
   "execution_count": 127,
   "metadata": {},
   "outputs": [
    {
     "data": {
      "text/plain": [
       "0.834"
      ]
     },
     "execution_count": 127,
     "metadata": {},
     "output_type": "execute_result"
    }
   ],
   "source": [
    "from sklearn.metrics import accuracy_score\n",
    "accuracy_score(ground, results)"
   ]
  },
  {
   "cell_type": "markdown",
   "metadata": {},
   "source": [
    "As an additional test, we can try sending the `test_review` that we looked at earlier."
   ]
  },
  {
   "cell_type": "code",
   "execution_count": 129,
   "metadata": {},
   "outputs": [
    {
     "data": {
      "text/plain": [
       "1.0"
      ]
     },
     "execution_count": 129,
     "metadata": {},
     "output_type": "execute_result"
    }
   ],
   "source": [
    "float(predictor.predict(test_review))"
   ]
  },
  {
   "cell_type": "markdown",
   "metadata": {},
   "source": [
    "Now that we know our endpoint is working as expected, we can set up the web page that will interact with it. If you don't have time to finish the project now, make sure to skip down to the end of this notebook and shut down your endpoint. You can deploy it again when you come back."
   ]
  },
  {
   "cell_type": "markdown",
   "metadata": {},
   "source": [
    "## Step 7 (again): Use the model for the web app\n",
    "\n",
    "> **TODO:** This entire section and the next contain tasks for you to complete, mostly using the AWS console.\n",
    "\n",
    "So far we have been accessing our model endpoint by constructing a predictor object which uses the endpoint and then just using the predictor object to perform inference. What if we wanted to create a web app which accessed our model? The way things are set up currently makes that not possible since in order to access a SageMaker endpoint the app would first have to authenticate with AWS using an IAM role which included access to SageMaker endpoints. However, there is an easier way! We just need to use some additional AWS services.\n",
    "\n",
    "<img src=\"Web App Diagram.svg\">\n",
    "\n",
    "The diagram above gives an overview of how the various services will work together. On the far right is the model which we trained above and which is deployed using SageMaker. On the far left is our web app that collects a user's movie review, sends it off and expects a positive or negative sentiment in return.\n",
    "\n",
    "In the middle is where some of the magic happens. We will construct a Lambda function, which you can think of as a straightforward Python function that can be executed whenever a specified event occurs. We will give this function permission to send and recieve data from a SageMaker endpoint.\n",
    "\n",
    "Lastly, the method we will use to execute the Lambda function is a new endpoint that we will create using API Gateway. This endpoint will be a url that listens for data to be sent to it. Once it gets some data it will pass that data on to the Lambda function and then return whatever the Lambda function returns. Essentially it will act as an interface that lets our web app communicate with the Lambda function.\n",
    "\n",
    "### Setting up a Lambda function\n",
    "\n",
    "The first thing we are going to do is set up a Lambda function. This Lambda function will be executed whenever our public API has data sent to it. When it is executed it will receive the data, perform any sort of processing that is required, send the data (the review) to the SageMaker endpoint we've created and then return the result.\n",
    "\n",
    "#### Part A: Create an IAM Role for the Lambda function\n",
    "\n",
    "Since we want the Lambda function to call a SageMaker endpoint, we need to make sure that it has permission to do so. To do this, we will construct a role that we can later give the Lambda function.\n",
    "\n",
    "Using the AWS Console, navigate to the **IAM** page and click on **Roles**. Then, click on **Create role**. Make sure that the **AWS service** is the type of trusted entity selected and choose **Lambda** as the service that will use this role, then click **Next: Permissions**.\n",
    "\n",
    "In the search box type `sagemaker` and select the check box next to the **AmazonSageMakerFullAccess** policy. Then, click on **Next: Review**.\n",
    "\n",
    "Lastly, give this role a name. Make sure you use a name that you will remember later on, for example `LambdaSageMakerRole`. Then, click on **Create role**.\n",
    "\n",
    "#### Part B: Create a Lambda function\n",
    "\n",
    "Now it is time to actually create the Lambda function.\n",
    "\n",
    "Using the AWS Console, navigate to the AWS Lambda page and click on **Create a function**. When you get to the next page, make sure that **Author from scratch** is selected. Now, name your Lambda function, using a name that you will remember later on, for example `sentiment_analysis_func`. Make sure that the **Python 3.6** runtime is selected and then choose the role that you created in the previous part. Then, click on **Create Function**.\n",
    "\n",
    "On the next page you will see some information about the Lambda function you've just created. If you scroll down you should see an editor in which you can write the code that will be executed when your Lambda function is triggered. In our example, we will use the code below. \n",
    "\n",
    "```python\n",
    "# We need to use the low-level library to interact with SageMaker since the SageMaker API\n",
    "# is not available natively through Lambda.\n",
    "import boto3\n",
    "\n",
    "def lambda_handler(event, context):\n",
    "\n",
    "    # The SageMaker runtime is what allows us to invoke the endpoint that we've created.\n",
    "    runtime = boto3.Session().client('sagemaker-runtime')\n",
    "\n",
    "    # Now we use the SageMaker runtime to invoke our endpoint, sending the review we were given\n",
    "    response = runtime.invoke_endpoint(EndpointName = '**ENDPOINT NAME HERE**',    # The name of the endpoint we created\n",
    "                                       ContentType = 'text/plain',                 # The data format that is expected\n",
    "                                       Body = event['body'])                       # The actual review\n",
    "\n",
    "    # The response is an HTTP response whose body contains the result of our inference\n",
    "    result = response['Body'].read().decode('utf-8')\n",
    "\n",
    "    return {\n",
    "        'statusCode' : 200,\n",
    "        'headers' : { 'Content-Type' : 'text/plain', 'Access-Control-Allow-Origin' : '*' },\n",
    "        'body' : result\n",
    "    }\n",
    "```\n",
    "\n",
    "Once you have copy and pasted the code above into the Lambda code editor, replace the `**ENDPOINT NAME HERE**` portion with the name of the endpoint that we deployed earlier. You can determine the name of the endpoint using the code cell below."
   ]
  },
  {
   "cell_type": "markdown",
   "metadata": {},
   "source": [
    "<div style='background-color:lightblue;'> Done </div>"
   ]
  },
  {
   "cell_type": "code",
   "execution_count": 130,
   "metadata": {},
   "outputs": [
    {
     "data": {
      "text/plain": [
       "'sagemaker-pytorch-2019-11-27-15-19-03-955'"
      ]
     },
     "execution_count": 130,
     "metadata": {},
     "output_type": "execute_result"
    }
   ],
   "source": [
    "predictor.endpoint"
   ]
  },
  {
   "cell_type": "markdown",
   "metadata": {},
   "source": [
    "Once you have added the endpoint name to the Lambda function, click on **Save**. Your Lambda function is now up and running. Next we need to create a way for our web app to execute the Lambda function.\n",
    "\n",
    "### Setting up API Gateway\n",
    "\n",
    "Now that our Lambda function is set up, it is time to create a new API using API Gateway that will trigger the Lambda function we have just created.\n",
    "\n",
    "Using AWS Console, navigate to **Amazon API Gateway** and then click on **Get started**.\n",
    "\n",
    "On the next page, make sure that **New API** is selected and give the new api a name, for example, `sentiment_analysis_api`. Then, click on **Create API**.\n",
    "\n",
    "Now we have created an API, however it doesn't currently do anything. What we want it to do is to trigger the Lambda function that we created earlier.\n",
    "\n",
    "Select the **Actions** dropdown menu and click **Create Method**. A new blank method will be created, select its dropdown menu and select **POST**, then click on the check mark beside it.\n",
    "\n",
    "For the integration point, make sure that **Lambda Function** is selected and click on the **Use Lambda Proxy integration**. This option makes sure that the data that is sent to the API is then sent directly to the Lambda function with no processing. It also means that the return value must be a proper response object as it will also not be processed by API Gateway.\n",
    "\n",
    "Type the name of the Lambda function you created earlier into the **Lambda Function** text entry box and then click on **Save**. Click on **OK** in the pop-up box that then appears, giving permission to API Gateway to invoke the Lambda function you created.\n",
    "\n",
    "The last step in creating the API Gateway is to select the **Actions** dropdown and click on **Deploy API**. You will need to create a new Deployment stage and name it anything you like, for example `prod`.\n",
    "\n",
    "You have now successfully set up a public API to access your SageMaker model. Make sure to copy or write down the URL provided to invoke your newly created public API as this will be needed in the next step. This URL can be found at the top of the page, highlighted in blue next to the text **Invoke URL**."
   ]
  },
  {
   "cell_type": "markdown",
   "metadata": {},
   "source": [
    "## Step 4: Deploying our web app\n",
    "\n",
    "Now that we have a publicly available API, we can start using it in a web app. For our purposes, we have provided a simple static html file which can make use of the public api you created earlier.\n",
    "\n",
    "In the `website` folder there should be a file called `index.html`. Download the file to your computer and open that file up in a text editor of your choice. There should be a line which contains **\\*\\*REPLACE WITH PUBLIC API URL\\*\\***. Replace this string with the url that you wrote down in the last step and then save the file.\n",
    "\n",
    "Now, if you open `index.html` on your local computer, your browser will behave as a local web server and you can use the provided site to interact with your SageMaker model.\n",
    "\n",
    "If you'd like to go further, you can host this html file anywhere you'd like, for example using github or hosting a static site on Amazon's S3. Once you have done this you can share the link with anyone you'd like and have them play with it too!\n",
    "\n",
    "> **Important Note** In order for the web app to communicate with the SageMaker endpoint, the endpoint has to actually be deployed and running. This means that you are paying for it. Make sure that the endpoint is running when you want to use the web app but that you shut it down when you don't need it, otherwise you will end up with a surprisingly large AWS bill.\n",
    "\n",
    "**TODO:** Make sure that you include the edited `index.html` file in your project submission."
   ]
  },
  {
   "cell_type": "markdown",
   "metadata": {},
   "source": [
    "Now that your web app is working, trying playing around with it and see how well it works.\n",
    "\n",
    "**Question**: Give an example of a review that you entered into your web app. What was the predicted sentiment of your example review?"
   ]
  },
  {
   "cell_type": "markdown",
   "metadata": {},
   "source": [
    "**Answer:**\n",
    "\n",
    "<div style='background-color:lightblue;'> \n",
    "\n",
    "POSITIVE:\n",
    "- The movie is entertaining. (correctly labeled)\n",
    "- The movie is superb. (correctly labeled)\n",
    "- The movie is not as good as expected. (wrongly labeled)\n",
    "    \n",
    "NEGATIVE:\n",
    "- The story is dull. (correctly labeled)\n",
    "\n",
    "</div>\n",
    "    \n",
    "<img src=\"data:image/png;base64,iVBORw0KGgoAAAANSUhEUgAAAxQAAAJbCAYAAAB9+tKcAAAAAXNSR0IArs4c6QAAAARnQU1BAACxjwv8YQUAAAAJcEhZcwAAEnQAABJ0Ad5mH3gAAG1lSURBVHhe7d3/cxXXnef//CkzVfNzamr0w6Aak6LCFmUmQ7wu5IqtWjIoHhItMQyOLdtlDTMDzkDwGMsaryISA4nRZoI+BFbgJJLjERMvcgKyDZExWUE8YoKtckiJsKu1K6ss2ffnnP5y1X36dPfpoytd3cvzUfWuQpf7pW933+7z6j59+hN/+cJ5+V//+yNrzfy33fKXD78ob8WPvXdG/vbhbvnmTxafc2X4H+Xvnjgopy9NyVu6zn5L/vaJf5CXfvx+7Tl59Yt/m5GXDh+VkTOvWP+/sN74O/mDP/y8HLtu+b+gfiK9f/hH8gd/85PM/10c+A/yyW3fk3/7TfzYv8ux/2R/blxz40+qz/ui/H8fRI/97LB0PPAX8oVnTsv42R+H9d/+QTo/vVk6vjkVPGf2lW75gz/eJafj1+h684B8Uk3XJ3d+X27Ej/3vKTm45o/kr175VfD3ub9R07LmL6Rj9z/Lv8TvfbhbPqne+9DP4teE36/zv/579Lcqh2kKnzcoj/xT4jlnj8hf/fF/kPuSz/ngVfl7870O/51s/PM/S833G2PPyH2fflK+WXuv07Ln8X+Wf4vfJ6rsPM9Ov9v3VqW/53/8D/LY4fgzfyyn/mmXbPz0n6hp+zs5Fz/P8h2+ue3PZOMDh+Wi+v+56xfV338kf/rEq7VlcWPsb2XdH6t1/O1/l7n4fRL1b//182qZqnn1QL+cjt5Tz+PPqOn++7FZ9Zzb8m9vR4/94X2y57+Fz3nz+u3g9bXv+Pz3o2lS82vTn8i63c+oaX1KDkXPT79n+NnBa/9Tdt5SFEVRFEU1sj7xlzv/Xp7Z/4+JekkmboT/WRoobvx36d/ZLf948j35VfycW+/LTw4/JV964p/lSvxYTi09UKiG2H98UDWiE7U3bhz+Si7rhtmVsJG+WOnGe1jlgSIdYGblh0/8mXxGNVTjhmJQv/l3eVM1gP9gzVPyQx0iPvy+/JWaxkdeWWwUXnxevW5bt3zmjw/Ihfh1P+uXP/3Dbjn9Yfh30HBUf6catR+eVw1P1fh9Pm70mw1yx2kK3ut/pJ+j5tXEM/fJH/zVqVrDOgwAR9LPU687pZ+XCBQX9qlG/Lbvy2z8HN2gvmI2xm3zPCdQlH7vxe95OZpfuuJwkAwUwXfY9A/yL4nvMHtFhac//DN5PGqoB3+rgNAb/D0lL6pQ8leH/0fi+6QrCBRBUEg8R83jYfXZqZB4/Z+l0xJ4a9+xtl6q+XVCB88/kc5n/nUxcFnek0BBURRFUdRqrE/85T+MhGcWavVzuXEr/M+yQPH+j56VLz32LXn7V9H/RzX344PqdXvltSiY5NXSA8XiEeBa5RxZrpXReA+rYqD44PvyyB/fJy/8LNkojyoVIn4lp3WjcN9b0f/rhrV63U++L4+pRu3B6Kj7je99Uf5g02H5efQeQcMx1UjXdVtee1w9Xmv0Gw1y52lafPziNxeD2H366H4t5NgCQFjhmZrFhvLPv6kChnEkPVPWeZ4TKMq+d8H3DKalFiii73DCXB+uyiEVUBaXiQqewVmQQTn0zb+QP1UhKhlUzAoCxab/IhdrZ1rCCj47GRKLAoX5HacPy2fUvHhsPP2dzABBoKAoiqIoajXWkro8/ezQDvnL7qfl71JnOFT9zWPqdbvlB+8tvpetlrfLk63io9vnjUZreaAIG/1RQzLotpT32emGctDtaU1/0MUmaFgH7xEGjfCo+6yc3vkn8pl/mqo1fIOGo2Va0g1Ko0FeYZp0NyUdIjb+zZFaEAvPPESN8Q9OyRfU83vfMN9HlTHf9ZmBuFtS+gxRXHnzPCdQlH3vgu8Znj1If4c//fPF0BTWZln3x8bnfPg/gq5Qf7omeebAXsFnWBr1qc/WVRQozO8YPDc7v9PLO/s3RVEURVHUaqglBYqr331K/vKxb8nZ1BmO7JmOvFrxQJF7dLssUBiN/uCIslvjPXxueDYi6O4UvUcQNPRRd8s0OTWsrZ/jME0fvCq9QbceFSQSjedUg/g3Z+UxSwM3KNt8Vw3yMJhE12JE1ygE/5c7zz0DRcH3tH2H4HvGZ6+SlQwOPzssG9fcJ5/Z9GeyMXkdiaUIFBRFURRFUelaUqAIujZ1Pyv/WtK1Ka9WOlBkLwyOqzhQXPymPqrdLcNxX/ygsZrtQhRU0L0n0YD+zZS8sOmP5AvfezXs7hQ/rhvG+oLtVw7IJ40uNE4Na7NB7jpN1sZrGJgWG8Rht6DF6xYWS4ei/Pn+K7kcXIy8ePF6/jz3DBS539P9O6RrSg79uT6D8q/y5tnwQujUBeBGESgoiqIoiqLStbRRnn71pnzrsR3y+J4T6Quwb/x3GWn4KE+qoai7uNSOOOdfF5AfKML32Ki7wpxNXqgb97vfnL52QI8qFDVOFxvQt+XiP90nn9y5S76QDA5B0FAN451fTHV30uXUsM40yB2nKTpyn2xohyMbqfeuNYijC4XNayOCI/n6eYvz/eI3E2cjVN14ZZd88g+flNeC71k0zz0Dhfqe+gJyc+Qn5++gKjnNF/V1E/GF27/5d/kX9d5/+ufx/8/KD/eqdSjRjcs5UOQEH+t3JFBQFEVRFNXEtcRhY38jN96dktP/8Jg8nbyGYs9L8q83flN7n7xaeqCwjPKkKmxohg3WWuPNemFwXFGgUI3P9Hv9hfQGXWYso/7obj7xkKzx86OhTNMjKH0kcz/7L/IZPYpPKjhEQUM9br0Yt3KgUOU0TdFZhMR37f2v/5q+hiJ+r+S1Ebr0UKfqsWSgOPc3ehjW6P9VhUPIRvOrcJ77Borwug09vcnrI3K/gzk/VD3+zfB6Dn1Ruu7qtOfs4oXbc9e/F4wCtTEIEdF6kfhs50CRCD76M+NQY/2OBAqKoiiKopq4PvHWtZvW/9A1d+Pn8tal9JCw716akl8Yozr96pp5/UTiNQW1pEBR67efrXCUHtVw1n8HfeXzLgyOK7p3gPE+i++VU3pIVpfnR8/LBA19QbPlNbNX1HtZLg4OHq+NYhV+P/M9nabJeI5+j3BajOBkzmM9TcFjF2tnYIJpSj6n9h5l8zw7/W7fO6x43sWV+x0s8yP+zHDaF79LWNF6E3xetF4kPjv4DMtIYrbPTk5j6jPN7xhNo3U9SHyWbT5QFEVRFEU1uj5he3ClakmBokr9bFDW5Q2pSi1PMc8piqIoiqLuiro7AoVxVJ1agWKeUxRFURRF3RV1dwQKiqIoiqIoiqKWpRoaKCiKoiiKoiiKau4iUFAURVEURVEU5V0ECoqiKIqiKIqivItAQVEURVEURVGUdzVNoJjX9ZH+9/+mKIqiKIqiKGqVFGcoKIqiKIqiKIryLgIFRVEURVEURVHe9QkBAAAAAE8ECgAAAADeCBQAAAAAvBEoAAAAAHgjUAAAAADwRqAAAAAA4O0TP/z+D4WiKIqiKIqiKMqnOEMBAAAAwBuBAgAAAIA3AgUAAAAAbwQKAAAAAN4IFAAAAAC8ESgAAAAAeCNQAAAAAPBGoAAAAADgjUABAAAAwBuBAgAAAIA3AgUAAAAAbwQKAAAAAN4IFAAAAAC8ESgAAAAAeCNQAAAAAPBGoAAAAADgjUABAAAAwBuBAgAAAIA3AgUAAAAAbwQKAAAAAN4IFAAAAAC8ESgAAAAAeCNQAAAAAPBGoAAAAADgjUABAAAAwBuBAgAAAIA3AgUAAAAAbwQKAAAAAN4IFAAAAAC8ESgAAAAAeCNQAAAAAPBGoAAAAADgjUABAAAAwFtjA8WlPmlra0tUn0xF/wWg3Nzpnanf0M7Tc9H/APUx1Z/cRrdJ36XoP5bq5ojsTLxv244RYe0FWsOybTdWu9szMnGiT3q3d0rnxvbEPFgnHVs6pWf/kIxcmpWFO9HzWwiBAmhiBAosN6+Gwfy0jHx1qHh7TqAAmtLc+SPSN1b8a73rAsX8lAw/3Sntie9cWOu7pe/12ejFrYFAATQxAgWWW6WGwZ05mTqxVzrX6ueWbM8JFEBTmb8+IUe2rwt+r2X7mrspUCxcOSJdwTavenXsGZfZFjlbQaAAmhiBAsvNvWEwJUfWJ59LoABaxdxYT+roO4EiMqu2Y5kw0S4bHu2TkdenZfb2vMyrmrs+JaMv90pXahsZ1ronR1siVBAogCZGoMByqxIo+hLPI1AAraPqvuauCBR3ZmR4a/p7tq3dKcNX56MnWNyZk4lnO9KvUQFk5w+af+tHoAAA1EHFQAGgaXDwKmvh/AHjmokuGb4e/WehBRW4jFCx9oBMLkT/3aQIFACAOiBQAK2KQGGal/Gnk9u7Ntn00nT0fw4+npADqa5S7U1/FodAAQCoAwIF0KoIFIY7k8b2rtPx7MSi6Zc2JV7f/POUQAEAqAMCBdCqCBQGPUzs4IAceLxTOrd0yLq1A5W3d+Y8betv7i1m0wYKPXzZ8MFe6dYLMvEe7RvVwt3eK30nJmRmrs4d0ubHpTfxWW1tO2XkZvR/rhYm06e5Nh2RspNkC7PTMnrigPRs6ZQNydeu71j8rrejJztYysVSrq9N/1AWl+vc+SHp3b64zNZt7pbewRGZml3Ksko3ZGobunk13/p7Fm8us3aDdD5+QIZfn5H5ohEV7izI7JVRGd6vXvvQhkQfyXbZ8FCFG9PcGJau2mtVOSzrjCtHZFPyPZ4cleTlXkvayN+ekcnTA8ENeDqSI09UWa+uD0tn4vPbtgzLTPRfRRbeOLD4Gl1r1TriMsqF2mYk+6x2nVjaON5566k2d2lEBnZ3p+bNus31uTFRvX/TKXr9VdM+lFl/w+nXv4Gh01My+3H0/BLFv/k5GdmR/v/8MrbvJRdlZ/onPz2eWvddzI/1LL5elUuXhLxlE+xb4nnXBH2d569Pyshgzj7S43uk1oN4Wd2Zl+mxPumprWd6G9kjB5ay/mrGupFa5/TQxJbtVvjbHJaJ61XXkgT1fWbOh7/7zs3h8Khh6ZuSqX3VwSW+v1JruyR/m3rfpH73Q6l9k/HbqjJoQbBtHwobu6nvoUp/VvRdRq+UbMcybbT8Mvc9xduNWeNi5k1y5Gr0X67uTMuRTcn36JHRsnVuBZZvFbOnuhPTwBmKpfEIFAvvjcjeh5J3HywqPXTXEZms2zJakMln059dtUFjNqQKX39zsjbmc3m1S+dXR2Ta4bfQmECxIFODBTd92TqsNjG+LIFidlR6LMOzhdUuB87b96T6hj3dua8zan23HDlftHJZNppXov9ylD4lmp1ur0AR3HTM9QY8ZevVjAxvST7fLWRP9Zu/YbcdSnp+dMnwjeg/PFkDxcfTMuTwu2t/aK+MFI3mYbNMv+nY3JsV1l+1E+3aPyIzJcGiUYEic/DFpcGQMi+jTyZfX7K+VFo266T7pUmZW0KoXC7zV6vsI92/RyZQ3JlV8zd/frU/O6m2+p5yAsXc633RPU6KS/82R6tsG3QwOh3fP6W8lvW3r/crb+pfgkeg0J/xaPogQlkVfpdlCxRq73iiK/X/la4/0IyDbYXr20os38rM7RPXUCxNxUCxoJ7fkXq+Y61VjZx63ZDQPGLseEQ2ZK5A+TvI2bG9nt+1SzVaizfjjQgUI+rvoo1cz9hSfrxGoPjOiPRtTr9/qvSZAnMHqodyO1jhLpeJKroxjXmEtL3KKU2zQWUZBaJqoFh4b7ggaBVUwXo1fTTdD7T3tbJlaR5ZCqs8DBmvq/Tbs8sEio/VulS07mSqQ/a+5rZxWc7ftDZb8hvLrc36e0dvYtGwQKEsqY+xeYaw4KDF3BtuDdVMbd4r4/XatyyVajRNHe3yXAfKv0c6UAzJiDlKTaqqHzxJyQSKBZk5XnH9dt3vfzwjwwXBKL/apevotFNoqn7js3XS84PJSoFi7o0DftuXoDqCeZyxjIFCbo9KT+L/21zPUgfMg7v5BwlXYvn6WHizL92WtLVLmkzzBIrb49Kb+kHGNw6Zkpmb4Y1D5m/PycylCbWh606d4g1K7Uxm6rGwMqfZKpyqM39ARveVmLVhsHaD7OwfkYkrs4nvOipDu7uy3zVv4xBZ+UCRKH30ZSy62ctNfVq2T3ZuXeoPyey7HZc+wjssk9fngnmmuzHp+bU3E14sQ7ipWre1V4bGJmX6RrR+qemdel2FFcsRIB0qrBv7hQk5kHxuhaHhzC4ftiM4lQKF7QY88Xp1aUbmgvVKz6dJ+w14VMN26Kpl4s2QvX+ieCNsdpOKq6xLi/G6zuNLjRPm/NspOx9N7KTWdkrvy6O15R/fmCjb8Cz+vWnL/ZuWq0eMxsQ66do9JKPnF2+sNH97VqbPq/d/Ohuc2wuWWdlvfmE+fn9jXW87IBO1z9ZlfIJDoMisKxXOZJpHQPMOWlgPVK3vCpb9ZGrZ6H3LznQXNV26MV6162vd2bdh8feYiraBwTqQsw0ra4Cb60Fc+mju8Plo+3FjOtx27LHv25wZ68be/eltod42972sfjvnJ2VSrdO6C5HthmGlR/XvzMpI8jcflKVtob7X5NiQ9G41G6aq0flySaOzYLsb75uCfYt+/9SZpXZpT76u6Ltkfv9quWzcKX2nJxLLPvoctfwHLNuAtk2q/WV+kTsLtddOH093z+k+Pr34vrqM15a3FRZkYn/yOQWhwGTrOm5rQ6zE8vWwcGnA2I+0OxyIW/2aJlCkj4K2y85TJbuVG+aPuMLKWsL3VF36dTnTo3agqaNqqtY9OVzc7eHmhPSZp7hVw3Ui56hjwwJFyZFQf7ZAodaR025Nj7kfGI091XAeCE4555u/ah7pz7sxTYUjKSnmkHT2ESScA8XClAwYR9479pR0d7Gdtdk8YNnpqPmf/K2VHGnKDZvq9z9Z8LqZ452J51YfUcMmb1raHy34zc1PyZGHjd+bbWccW/bftLmuqPDxZvHOaf5NsxGd3x3IfXth/g7zt+cBl0CR6Tbo2s3NPPCj5p1t+dwczewnugZLugDNT2eOeLY/OlrccF1muittuoHYLp0HJwq/R3YbpqrgwJstULQ/OrI8d/g11424VHjL7YpivWFY0QE/3Q3XeL5+//eKt8/ZblcdMvBOzmssNz5rf/iITOX9PHXXnLwzMbmBwvyNqG37s8XLXtNnq6u0kZz3NRGX7YZ50My1m9z8a72p97YfXFqB5evBdja0o193Cm9+TRIoVMr8UuJ5jhe3Lqm7SRFzY+d0qs7oa259jdklqsIG29JVIy/oNCZQLPEUeCFLoMg5+5ORGQt6p3u/fPPIU97ZB/MIvsvFpebZrJwjs64b+ZnjRgg+OFl8YXpN9shn9rofMzQV7cTTjd9NmzsSO5Si1xlda3wucLewBQqn35zl92a/HmoFftPm8IWOFy+7didqbKDIbsc3HXVY8k79q/UR0nRo2+l6TVzmyGf9DlhVljlrXqGBYjl6nncmJxsoql7TUoEtUKjQPlm2Ylsa8N15Bx/NoO/y/pHMWa2c7bNu+KYPyKjfhMNBtdlTlgMdeYHC3L9sdj/jbx4cLTrruxyBIrvu9sp46TJwvDZqBZZvVbOnezJnn5ctlDdAkwQKY0fl2pjQ3U30qCnB1fsDMvCDep26yl5MU7ozMX701oaB2ed3rfpxVdlgZ0572n+cDQkUdWoA2mUDhevpQ3OD2lWxG43ZKLPvjI0w6bAjNudf3k7eaSNvuRYj7+yVlRluLKeXzcEGcndMqS5g7dL3RrqbTO7rjAaGU6PSQTZQVLjeytyR29bxlfhNm40v19GQ9A5Xj/izpUcODA7I0BurM1Bkug1a1j9T+qL/nIMZlmssKnWLNZe/60GMOsuMhlWhQallGr052+pMoPAYdcuZJVC4XmeX+U1bDyRazhy/UaV1YLYBbOuYeX3RJvXbcfwMSzDK+32Y17C5zqeA2QYrOOjqtK9JcN1upM88O0y/uW5Yf3crsXyrWFDLKXt9U9H1l82oOc9QqJVjp+6/18AFkdmIl/QbdxmdxhxCrPoZlezRUNuPqCGB4uBk9D/LwWzIdDs2Cs0NvtsIRSmqUZbq452zk3Xtzx0yT2HnH7Vx2sir31lyXa2+Xpl9XS1nEsxGX94RndS06G4oczL6aOJ1OfMvfYq76ExGNeb8qzYyjbmcst2wVuQ3nbnBUocceL14Z19FwwNFpnFQsnN3HJq7agMpyzxQkP87XU6TB5PT4PE9MkeJ7d0JzfUg98h/PWQCRYV569JIrthN08Y8iJI5yGF+h4qDSJhn5uy/D9VQ/cGADARD6OthdCueNVoFgSIT7EuCubkvtR48XInl60x3vTKvWWmXzkHXXgLNo2muoZh5OXvBmb7o6MCJ8KLJpYwJ76XKkIbmc62Nrext3Ksl6lCmATOYnaONCBTVd9ZVVGzIxMxGcOYiUoeaG0+/R97NbRy7MAWMkFLUyHWZz+YRoMzFdA41/Z30Rjx7vYi5/trDWepoWhQe0tNn6+tuvLfDEWpX5vyr+pszjw6m58tK/abV5+xJNrjD0heuDpyelJmb1T8zqfGBQnHqwhRyG5rbDMlq2bxuX/fza07GjYtKB96J3n7FuIWBMplQYrkebCn7jcqW0hg3X2s7SGEeCPrSsExbl3FBXRlKN4SN62jM9dC2Ly40N+r++6hgIRqcQd9nKXX/IV2NCBRq6aQPmhRdJ2V2Hc/pZrwCy9dVZjSn4ID4TO72q5k1TaDI9nU3a510bNc70AkVMFZmUbl1d8luWOzPM8/CuB5lN5jz1LIxbUSgWN4RDIyGTM4RyQxzo1OXyjuSZjYu8zea6fWq+Ghs+UY+23CqR9mO1phH1LLLPL0zqB3hVOvs4tGb8rMfdbsWSknPv+q/ufSZE7PRsHK/ab0up3Z+ZumbWembOo5NVb7h56oIFGbDOa8hkWmc5B3oMc8u1KdWfKSWzNmp4oEN8pjbEdvvO70e1O8soVWldcPg8Fpzn1yXMvY75oEc+6AdRYzfU5V5sBCOSjf5+ogMDQ5In76Rm3GTS2s1JFBkt6O59+dy6TqurMTydaLP/qWug3MfLKYZNU+gUCqN5by+I7hrZumdIJfCPFVn/cGbO7ic0UYyO2PP0+ezI9KdfB/LNDUiUFT5jOo8N7yZ9a8eld9tyuwmZ71ewOx+UHI0vnwjX+U+ARXKtuMxd+RmN8DU/ycaJEZgMOdLeudQ35v/pOefx2/OXIdS82XlftPa7Gvu97lo39gl+g71kw53hV0dgUJ9P6Org/Vsj+PQ3NlprU+VNbLqzpyHPo0e7c2i9TiUXg88uodWUXHdSHF4rbndrE+l1/el7GdDxra7bB7ou0C/bhv6tEI1KFBkenHknJFyPdi2EsvXSepgmaoq63ETaqpAEZifllHbWOBFVbvzZL05DGlo7ODyT9VX3BnncdiYLmVD5/pa8wddfWNaRXMECpewYIaOwjupK+Ub+RUMFOZnGf1WU0ehUv9nXEdhnFpOXWDr0Re2SHr+efzmKgWK5ftN19yczLmPRX4Fd4UtGErRfXuxvIHCJSykQ0fRYBktGih8GyyF63EovR4QKLKVXt+Xsp8NVQgUc5Zhpgtq3ebu8IDCib3p/2tUoFBKw4JT1/HQSixfF2aXWJ8ur82k+QJFTKfx8yMysLs72w/QWstzqsns5mEeXU3v4PITdXYH53k00+zGY9kILWVD5/pa8wddfWNaRZ0CxQqMJV+80TQvPi3faZdv5M1Asbz9vNOn+RNnIcyuV8bZi9zrKIyL66pdNF0uPf88uotUChTL95vOWJiV6bFhOfB4p+PBl/wb57lvL8zvW+dAUdqdyTjAUxg+zWndKaPL/eNfDuY89DxDkekicpcFisrXNzhYyn425BgoMvdSSZQe5XJ7r/QNDsnI69FNWpM/c4cgGSvf16RV/v4l3ZnMg21Fn78Sy7ec23WFraR5A4VhIbjT5HDQVzA/YBRd7OOpcEhDo59uYfeV1r6GovrGtArPQHHVGPax4igcXoxucqnrAebHpTfxfy7DUJZv5OtzYbAzo/G7GLCnZCCx08v0NU8ti0S3JuPxeo/1n55/1Tf4+qaIi683Dyis4DUURfTdbm9My8TpoeKAkXNdgvv2YrkDRUmjwvg95/WvDtXnYuaGa9g1FM0dKMw++6V39/eQGbChpAGeld5m2ueB3r4bZybWdsreE1My6zI0+GoKFIUHBMz9WPFoViuxfMuZB/Pyuru3jpYJFKaFG1MycjA77q+13/qSFAxpaOzgiruvWEYdqcOIMOU7hiqNffMH0uSBwmzA+x5BrsQ4yppoxKXPdrk1nl028uaOzX/4OxdGQy0+65MKGpbGSM51FOlpr/8GOT3/qp+9KT6lvXK/6UpUwJi7PiFDj2dHzrNN32oKFJlug4luD+mzf2UHj7JBe8UvqK4L8+Ly+ozyZJsXrRQoMgeTfK89KVA8YIMDc/9k+x7mdZwFZxptMg3vhgaKgn2gc9fxyAos33Jme6l+7dvVqikCxbza+Y28PBAcXevcvK7STtm8Q/CyJNWcU3Xpxkb5Btj8wVbv3pFt8FsbCIPpIxrOo09kjoY1eaCwjPRS6aZAml72egSdLZ3Ss39ABl6aqDVw8tg3msayyx3FJs1lI5/pzlB4pswmDEHrNqvfX3D6fEBG3smfT7YQkJpO65kgo4EXLENj+SzDb9ecf9UOOJjrT/Y3vvy/aRUOrozK8GCf9G5Xy2ejakg7Nyh14ElvC2zff1UFCsUaHMxx54uGZY6Yo/C4nBFMCcJNu2x4SM33xw/IwOARmaj3GXAH6Zv4lV93lWHOO6f7UDR5oMgMGV7UHdku2I4nb5x7aiq9/phdFSueAc9sty3fwzxDWnUdTv+WVDU4UOQFh/RnOxxsW4nli4ymCBTmD6vSTtn8jGU59WW52NZsbLj80DNHGyrepEalcpc7ZZsbBtcjnno5mGd8mjtQmI1fVZXuMpttkDmtm8bFZcFrjJ1gcXeNRU4b+cyZmPZqR2PVjjG9XpYc/VW/ucX1RHdfSh+pzztSl/4uat29lN4h+xzdL2POvypha0F9z9RRMNt6twK/abNhXKVBaX7/ZggU5jwNvm9qnXM8MGAexWzrqDQUamZ76HgQoN4yN1mteMBAH6XOvD76v6SWChRqb2yeoWqv0pXQcifr7O/OHLSlSqPWvF5IleV7ZLZfBYEgwzYUf6MDhdp7pnp8BL8p46CK0/q9EssXpubo8pRpEKmNmeOyNYcaXK7uHunP6ZThN5IbNde+39mNSPujI263Zv9Y7cxT4x1HDdXov1PMIQI39clkWX9Ly/vravZAkdn5qOpQG1WXpaUblOnGnvsOwxy5aORUcn6p93Fs2Lht5BfU5xnBaa3jb+jOrIw8mg5NpeHYOOK56aUjqb9zg0GqgdcuOx9Nfrfl6Y6W2SGrclr+md9D3m98BX7TmdP7Dr/ngNld06WryyoIFOpZqQaGet1I6ii967qSPfvTtllNs8u8sywb14MAdWd2A1Plug3TQxKbF/TmNZxaK1CE2+90oHQfuGVWbTdSISznQEEmrDmuX9n3V2X5HpkzFK5nQWzbdV0FB1xXJlAoqYMD7dJ3Or08nQ+ArsDyRVqTXENhaRBtPiATJRu0hfeGjY3lMlyUHTNO1XVsTvRPrnLkKnM0uE3WPTks00U7yJuWIeNUg3E0b/5kAppu5KgNUc6Gbv7qiOy1hAldTR8olOmjZl/yduk8OCFzBY2++Xey90SpdAQk1U1uk2zK6Rdexnkjf1stc2N629b3yPDVgilWO53RPea8cTmKm712YLEKGnuZrheJqnohsiNboNDLv+volMznLX/LEI2FIWHZf9PZhrH+PRe+vzL3xoF0IM7ZTrk3DMyL0Eu6Xy2h0ZjuNpj+/VQ6g505A6Re/1Bf8b5lfkqOPGwuG7VeFzQ4zHlYdRtVJnv22GEbdnVYeswBTDYPyFTOzGu1QKHmgGQuaG5bJz0npvN/+8rsWPZ+Lx15jVzLke72h4/IVMFv0/b+Qdm+h9mtSjea4xuG5rk5KUe259yromg+Gwci20t6e3gHCiMgb9pk6eLoZAWWbyHzAEt5CGt2zXNRtq1BpFaObn3zukszMle7ZXp4W3nbWOwdg45HbbxYTlFGVfXIlfXoxNoNsrN/RCauzEbfc05mLtm/Z/mFWZaApkt/hp6f5ydlUtXoiT7jJjlqYzXYl9pYt0KgyD1as75Lel8elanrc4vr1usj0veo5Y6jrkc2a8zT4YtV5TqOKkeNsmdUdLXLhkf7ZOT1aZmNfkP6DqujL/dKV2a0NPcjPJn+v3EVLpv8ILJcF8zaA0VY7Q/1ypC+s/TNcL7MXpmQEds9cBzO9iz7b9rSMG5b2xmMNb/4/qr0aHjWdVgt25xrqdwbBsb9RHQF25QBGRjUNZ4OyktpNJpj0teqel9p67JR+5au3UOpfUvu8ne4EHa5A0W4Tc9eZF9pG1ayHrdeoFByzry3b9wpfacnwmFW49/NmP2mcaVnHC1ngTK/zYL3r5X1e1jOsqlatz29TY9/9wPmtmVte3o9KJpX7wxk1pl1W8Nr6vTve/hSehvtHSgUs2dJrape57QSyzcXgWJlVQkUSqU7ZRu1Tq2IfiuFu0xf1qD8Rt3IPUpRVmu75EjBBbM1OT+0/FINjuMzmb7+LREoNB0qnizYmBfV5r0y7tbOTrFvNKudWq0SKLT5Nwek0+s3pI/aT7sHcstZMF1lFz1nTuEHtXynm835131QBeYq82d9j4w4HjFb7t/0bIU7ZaerXToLDrZUaRjkNgSCMs5OLaXRqKbW7K4VVMXrB2Kzp3sq3QxwsTpk72vlP/7lDxTKnXmZOpod2dCp1DZstGQ9bslAoc1PykCFm8IlS59tmHY4kLRwqep2V4XUU0NOd8i3BhaHan94QCbnzLOKBcMO54b4sMyuSEsJFNlrz8KqPGiKtgLL145AsbIqBopA0ek6W63vkgOni09x1Y2ty0aF7isZNyakz/m7rpOu/SOl3RxSPp6Rka92lu+A1nZK3xvRD6FVA0VgQWbG+qTb6UaJutZJd/+Ef1A17/yrqlJ3DaVqoAjMTcrQ0w7LPSp9pH7YJaSmZC+Kc7o2JHMKX1XVo1IVWOffjVHZW7oDUo3wr47kdhPMtcy/6aB7YoWdpz5Sd+R88TpTqWGQd7YvKGP5LylQKMboerqWcuHkwnujFZZNeBTYdVSnFQkUkfl3hqXXdR3QZ5BemizsGhVr2UCh3ZmTyZd73Rv9+gzDiYJukTZO2xVVuiuqvnN9le9R5U7Z67ulb2yxTZQeJax4G20/yx2V0S11SYHC1uNjKYMerMTyzSBQrCyfQBFZmJ2SkZcPSM+WTuNGduEwfj37h2Tk/MzKBIkEcxg2r0RtSH7X5On29o3hcIVDpydlZglHcIP3H+yV7ocSp8HVjkYPETpweiq9s2npQBG5syCzeijO/T3SuaUjdeSyXvM8ZHbxSdzQzZFXoIjdnpHJ0wPRcKPJnco66QiGyhuW0SuzsuD5GzKnrfDoV032AtPl3Ajnzj+9Dpw37zSt50uPHDgxseRlv9y/aT3U9vBB9Zs23t9n2VZuGNyZl2kVzHuM346uVNe1pQYKh2F7fSzMTsvoCcu+RW8T9fJ/eUQmr1fbrq9koIgtrgPp5aCHf+7e3SfDqlE5W6GB1tKBIqbW3ZnzumtQt3Qm94eqfOebKVguet+SfH89PKn63Q+/nmizmN+j7Doyvc26NCJD+r03J4Nx3Cay/+bNnhWlB7VuTsqQnj+pfYYqY3SwpQUKNV1Gt9nUTWB9rcDyXUSgwBKlA8XyjEwDoD6WFMiAimrr2woECjQ585qFejSogWVEoKgno8tT1e4rAFYWgQIrqXbfGxqHKGEeoe8uG70JaDACRR2lh+6rPtoIgJVFoMCK+XhS+qLufMs1ahlWkykZWK+7yenuRgMy8PJEhbNS5qAD1bvDAiuNQFEv5njTS7kYG8CKIFBgRdyclIH43hWb+nLv9YBWYg6jXOEeCua9axp0F3agCgKFD/NCxvlpGUndAKydI1BAEyBQYPkl7vuztlMGSu5ZgdYxc7wztX0puoFsjR4NyhjSvatkuG1gNSBQeNAbiWA0li2qjJECgtqqNhoOo6cAaCwCBVbE7XHZ+/CB0ns9oMXYbsgb39QueUPevBvPqWr/Eu0JNAcChQf7zbfi6igfax/AqkCgALCcqt/UbrGWdmM1YGURKHxk7p8RlT6d/SZdnYBmQaAAsOyq3pC3LjdWA1YWgcLH7SkZeHzxpke6+1NP/4hMLeeNfgDUHYECwEoJb5rYF9xM1HZD3uDGasmb2wFNhEABAAAAwBuBAgAAAIA3AgUAAAAAbwQKAAAAAN4IFAAAAAC8ESgAAAAAeCNQAAAAAPBGoAAAAADgjUABAAAAwBuBAgAAAIA3AgUAAAAAbwQKAAAAAN4IFAAAAAC8ESgAAAAAeCNQAAAAAPBGoAAAAADgjUABAAAAwBuBAgAAAIC3BgSKKelra5O2wtopIzejp7uan5aRrw6pd8eyuNQXLJu+S9HfK6munz0nIzvUOtbfwmtKML88fkMp5nyKfrdV5lsj1xlt2T/fMk9uTsqR/lE194rNnT8ifWNlz3J0Z1bG93fJhrV629km3afGqy+rInVZn6qp6/wBACy7xgWKrb0yMDiQU8MyNR893dHc6Z1qp9dHoFgujWwc1vWzCRRuCBTlsvNkql/9vWOkJFCEr9t5uk4N5jf192yXrsFRmTw/KVOzbzd5oKjz/AEALLvGBYo6N+gIFC2MQFHNsgQKDy0fKLIaESjCbd8yNvgJFACAEqs+UMRBYXJuUo483iHr9GvXbpCu/SMy83H4nGAnrh+PK/He81dH5MDDG6Q9ft3uIfVe0X9q8c7yzVHp3dgePKf7xEz0nwk3hqVLvYdtJzdzvFO9ToWZO+Hf81dHpS+e1rZ10vF4n4y+txD+ZyBvh2k87jpttcbfhEy91BV87rrNfTIRn+XR3TByp2dexp9Wj28Zlsw73xyRneo1PWPqjWyNsztzMvlSj3Ss1++rP7NH+sZmJHzn6H2NxtX8a73Bc3f+IPVo+Nz9E9FrDfFnvz4jI/vD79e2vkN6XpqUuWie1xROk2ZvKBcus6tHZFNbu9EwnZYjm9Rz1w6opZYQPLdThq9Hf2csyMxYn/Q8FK2TwTR2y4HTyWmM14MZmTl9QLr0so++y5E3jXXm43CeBN1d1Pqx8+VpWXBtAKrXjvbnzSu3MxRzbw5Jb97vy7LOzP6gR83jdtl5PPl9DcF36k5Ml54/0zJfW9ZVfj/l601qG/No9F3Wd9WWyexYvAzaZcOjRxLbj+Q8ieaX/jsq27Yi/k0tPi+xnOanC5aHTfYzw4Mq5rKK58vyrk912e4VzR8AwKrVJIGiQzo2r5Pu/hGZOD8hI/3dwU6r/dnJYGc7/96kjB5Ujfq2Hhk6PymT74Ut6bmxsPHS+fSQjOrHx1Tj5yHdMFc7qdngKVGjo13a13bI3hMT6jnDMm5tDEY778zRxxkZ3tImm16aDv7SO98OPW0P98nI64nPVN+h71K8c3XYsWpVp21tu6x7eEB9VzWPTk+pZrqanneOSKdqHKzbHk3P6yPSt31danoW3jig/s42gsN53yvj+o3ixlncOFyYkiP6e63vlr7TatoSy6VDLVv9zqnXR6b6w8ZMKjzMj0uveqz3tcQTk6LPbtffb/uRYFmOvqwaXvqxRxP91R2mqTavEutf6TK7o5aLmoebjobLOFBr+KTn2/TRTdK26YiKG3Yzx7vUa+J1WX/WsOx9WH9We+L7h+vBps2qcfZQrwyNJaepS4ZvRE+7o0LNZr3cO8P1I1i2qhH4qJ7vJQ2xj9VnRK/tfVl3lRmVoac7VWNaNfaDsGfOp3CakvNtVi1f3fiO162J033SrRvDm1XI0jPbWGfC+ax+j4PxsrCJPlc1dgfiZXiwK/icrhPxj9b4ndQYjzuuN9ltjJoXqmHc1rZJevfsVMtgrwxH369LN7S3Dks4Jcl5siCz70zK0JPq7y2qIa0+a2rW8i0XZmXq/JD0qNd1HtTzfUqCp9WWR1e07sbLI7numsLPDLd9nSp8qPXk/Iz63ZvLKvx7Odenum338uYPAGBVW50XZSca7eHOXu1sTsWNiVDYMF3s4hQ+L9HlaWFSDqidf9d3jOPud1QA2Kp2fFEYiRsdnebzLOZVQMnsWK8PS6dqeBy5ov6td8j6qLWa/tnkkXP1mUPqM82GiGuDqHzaokZY216ZiM7ahGbD76oa74tHd7UFmdiv5l88PdG86jye/JzoPeOGfzQtceNw9oRqGK89sHgWJKLDSXvcSAnmTfLIfjh/OlTDJtnoDgNNj4zejh4wxQ1D4wxG+FmL7+80TfH3ihtbTstMz6/wOfESC860bFKNUDXfFoNAOlxmTcvQlg3ZBmI0/zON9019MplcnlGIidePcH1MNtiUO7PRulDcAAzmlZ4nqRCpv+c62bBdn60qCRTRNJvLRC/zrvVqmt5Q8ySxzixcGgiCbX7jOBJ9x743o78Darr2tMuGx0e9fj9l6411G7MwIQfUY+YyCM5Gqnk7GnyEMU8U3y5P0y+pIKqXWXozJzPfiZZT3Oi3CKc/ubzN6Yr+Xq71qd7bvdznAQBWq9V5UfaJ8Oi6Fu4suzM7WnMnmgkUwYWKG2TvCX3ULl3BUcT4uUZDudDt0eDIWaohEB+R1jvSoLtLmxx4I9tkCnfW8dFsxx2r87RFjT+zITM7It3q9d2D45l5EB7VjOffgkw+qwJGsttT0NholwPno++SmhbVyPiS+rztAzJuvO/kWJ8KEfF3CBsatSP7wXuqZTmm59PisgvCYVEjLPjsKLQl3ZkM5lf7oF6SrtNkNJQdl1nYVWvxbEswzQdHZfRp9fnxe0XzzGldSjHCW/wbOTgZ/LUoejz4vCjkWLqqhQGtoAGoPm/0UfXawoZvSaB4ZyDVKLeK15lTar6oMLEhDvFF4qDy8IBMXJ+ThVQQjlX5/ZStN+qbWrcxOcsg2K7E89aYJ4pfoIga5GY406JtTjrspzkHiuVan+q93ct9HgBgtWqSLk/ZnVlZoAj/Vp+TW9FRRudGuzYvozqM1BoMRoM5eK9s16FA6nMcd6zO05YTKKLX51e7DLyz+Nz2xLQH82/tAZmM2wiW6c++32LFjbWg4R01UoKGSRC+wgZd2AAJ52FRgyn8bFuDJvreT48vdvMoqHCajIZy8N4Oyyw6mhtOc3gmQp+ZmD3VXft+Yeg4IBPZdlXanQWZvzkjU7o7z8t9i9cg1JZf3m8k+bgZQhKCBl5BA1C9z0DqjIhNcaCY+4H9d5kSzb9axV2hSsy+tjc4mxG8Zu0G6Xy8T0Z0V55auAinxe33U7beqL+s25icZZB6z+xz/AJF+Lf9N5AzHQnZ6Tdfk/ceyceXsD65/oaizytdbrnPAwCsVi0eKAp2grHUDq9c2GiMuucEO9pNcuRq+H9137E6T1vUGMgJFE7fLeq2EPZTD9+v1i1Ms0y/yzJMHt2cGtRH9fVR0vAi7KCBH3cZi+ehTfDZtmWZbAS5TlP0mvh5wXu7LLMwRARnI+ZGwzMtelZFja3RuegIb9RIzZNqLK/vkM4tPXLg5SNyQL133QJFME+L1n2XeWXMJ+M1Tr+vaP6te3JUZt8LBzXoSF6HUuTOvMycH5GB3YsXZ7c/GnepCafF7fdTtt7kfZeceZR6z+xzWjJQlK1Pzr+h8PNKl1vu8wAAq1XLBoqwIWs/DZ+S2uE5iPpW65GPgu5OyS4Cpaf+424V4TxIXeSrBQ1Vs0HkMm1RY8BsyAQNgZKj/wlBP27d39nWdSc1LWHj2tY9IiO64PrAG9O1o/pa0Bf9SyMyqZdbwUXMgeCzLaEjOtMRzkfXaTIays7LTM2faHlPx2da9IPR+tB3Xk2LCgq5F5ZrUfeVTfvHjQtNo2mvFCiWp8uTPvMQjhBWHCjyuzxNycD6aDSy1DqjIt+gvtDZvG7DwZ0FmTmhf9/xOlDl91O23qiXWbcxOcsgeM/4udnnLFeXp27jGrKk+gSK5ezyVHG7l5k/AIDVrmUDRe1CV7VzT18oGF5kuO7haMeZavS4iK43eLpP+lQjcHHkGaXs4sTNQ9HOOnrek6Opo9mzp/R3qGOgkPCi7MzFmPo7HNwk7RuNC5ijo+19/Wo64utCYsa0hBf1bpK+N9ONiIU3+2TT2g2qcRG/cTht7U/2qEZD4ihm0CDtki590XjZuhB99qaD6T744ShDqsEY9ZF3myajoey8zBQ1He1q/vQ8qZZ/rfEXNs43be0K5l1uo0uL52HqgmPlvaHg6P3i8nNpAKrG2tm9wfdPfV+9fj+qpq9kWqwXZccX4AbTURIoci7KDuZ1HDTM9fdj1ZC3zeuE4OLtjR2Z6x4WXt8bLNswHFT7/ZStN40PFFGY1+9r5IbwouwOGXovesCiPoFiCetTvbd7lvkDAFjdVudF2aqGL4W7HNdAEXZF2iS9xydqw8bGw1q2R8M+6iE6DxhDpmYaPQ4Wzh8IhqJcHDlokdvwiWrXelQfrW2XroOJoXA375SdKqTUL1AsTo8eSvWIHi7y9REZiIcHPW0e9Yx2+Or5mZGKzGmJh7nUQ6C+pId3VN9hsDfozrPYNSUUjoyjnpu8Z0N05kLPg9qF33mCz94UDOsZDgFsGw5WcZoms6HsvsxqI/+oSt5HIzhzoR+vjWaT47b6zjrkxssi+B47ZcPadbJOd+upLb90Q2+R8Xjc2EsM/XokWL/Vc4oagJplmNLwtR0y8I7+ziWBQol/Xx2Ph8MyT5wIu3PVhmS1rL/6dxqse6n7kCQsTMmAni41jw6c0N9pUkbV++rhWpNDvbr/fsrXm3oGinBdUPNULV/rsLGB6He2VQ8vu5RhY0P1ChRLWZ/qut2zzZ94WlPbOMtj0TpHGAGAldW4QFFS8Q7BNVDIx9MyFN+UKjnGfPLGW/pmS9sPyMjVxPExS6OnVHz2I6cBmb3B0xGZuGE0CVI3YAufMzkXHiGuZ6DQFt5LTk+7bHioR46ct+9ww8a/pZuIbVqMG6O1b+y032wu6hKR7tKhvqselcnlIubgs9Wyfk8t4/h7rO+SXj0amPlZpdOUDRSa0zKLrv3I9BcPRv5x61q28F76Roud+nOuR93nahfBOzYANdt6NBbNr4IGYCA1r9R68bD6bdRuRFYeKLTU78u8aZx1/dVndHSjtVfG84YJnp+S4cS1E9abGDr/fsrXm3oGCpkdlwNbw0Z4PDCBzexrB6Qrmu+1gREsN7Y78roetLhY3QKFtoT1qW7bPSU7f6JpJVAAwKrUgEDRAqIbnbHTAgAAwN2OQOFBX6TYXnQjNgAAAOAuQaCoYPbsgAwcDPvkb+ovueMvAAAAcBcgUFQw853wYuYNTw/LTGrUJAAAAODuRKAAAAAA4I1AAQAAAMAbgQIAAACANwIFAAAAAG8ECgAAAADeCBQAAAAAvBEoAAAAAHgjUAAAAADwRqAAAAAA4I1AAQAAAMAbgQIAAACANwIFAAAAAG8ECgAAAADeCBQAAAAAvBEoAAAAAHgjUAAAAADwRqAAAAAA4I1AAQAAAMAbgQIAAACANwIFAAAAAG8rHyhujsjOtjZpK6idp+eiJy+DxOf3XYoeAwAAAOBlVQaKoPqnohfUGYECAAAAqJvVGyjadsrIzeg1AAAAAFalhgYK6xmCS321UJH+/zkZ2ZEMHMn/T/yfeWaj9nlRQCn4/Kn+6D2iSna9mju9M3q8TxY/IfG5O0bUX7Ep6Uu8x+JrCUkAAABoLU0SKBYb6GbFjX57gz/xeNzgt35+NqzUKg4oZjBJPWY8XvsO4WMECgAAALSqVdzlaTEYLJ45WHwsEyCsQSF9piBgeZ61wW+EgmToqL1XIvzoyrxfFGIIFAAAAGhVqzZQFIaCwOLj4XMt3Z4yoUDJBIq87lLZAGEGBbOLVPh6S/AAAAAAWtQqCxSWI/gOASR7xiA8a1Fr8Cevb8gEivzuVLXKBBT9/ovBoa8/ejz4nPj9OBsBAACA1rc6rqFIhQajIV4lUKTOWuSc2VhKoEi+/+n4fXS4SISI0+lQAwAAALSy1XNRdio4JBvjOcEgx+JZiZ2JBn9C5vPzujzZ2bs55T8OAAAAtLLVEyi05EXOiQb5YmM9EQ5s10doyfcw3idg+XzrRdN502m8fxxyFt8j+xouygYAAECrWl2BQkke6a/9f+I1mcqcCUh3Ycp8hvXzC7o9Ja+/CCSfaw8g5lkRAgUAAABa1aoLFOkGe7JhnuiaFFVeF6jFBrzR3Ukr+Hy3bkvJ6Ui+f2K6jdcRKAAAANCqVj5QAAAAAGgZBAoAAAAA3ggUAAAAALwRKAAAAAB4I1AAAAAA8EagAAAAAOCNQAEAAADAG4ECAAAAgDcCBQAAAABvBAoAAAAA3ggUAAAAALwRKAAAAAB4I1AAAAAA8NawQHHr1i2Znp6Wt99+W9566y2KoiiKoiiKopqwGhIo3n//fbly5Yp8+OGH8pvf/EZu375NURRFURRFUVQT1ooHCn1mQocJ/eEff/yx/Pa3v5X/83/+jywsLFAURVEURVEU1WS14oFCd3P61a9+FQSJO3fuyP/7f/+PoiiKoiiKoqgmrRUPFPqaiY8++kh+//vfR48AAAAAaFYrHij0hRv61IhOMwAAAACaW0MCxf/9v/83+gsAAABAM2tIoNDXTgAAAABofgQKAAAAAN4IFAAAAAC8ESgAAAAAeCNQAAAAAPBGoAAAAADgjUABAAAAwFvTBYrLLz0gDzxQXr0/vCkydTj49+Gp6MUt6bIc1t/5pcvR3/5u/rBXza9eGft19MBqcOcjmfnhc3Ly3ejvevj1RTl2aFzUGlKJ3/y5KWNPq+Xz9FjlzwMAAGgGTRcoPnj9sBw+uliDu7eqRt5W6f16+vEz735EoKhoVQaKX49Jb52XYRBKPRr4BAoAAICspu/yVNjIuysCRYtbRYECAAAAWXdHoHjrAzl3qFe2dqqG5AOdsu3vj8nFueg5sTs35eK398i2Lfo5D0jntj0yeHZGPor+2y48O9D7wxmZ+WG/7Ape2ylbd0fvP39Zvvv326RTPeeBLbukXz0v9X7zMzJ+KP8zrw7psy/9cv630QOxO+pz1XfZ+u2r6g/7GYqP3huT/q9sDT+7c6vs+tp3s9/ZkJ2XurtRvzyxrTOYvge2bJMnXhiTmfnovwuUfn6wbNRnvTcjYy/ssi+baPkt1mH1bSOlyytaNt+/KGP79HSo5fLUP8t39NmCxHsGXeO0uYvy3a89UXs/Pc1fNtYTc/6Efx9Wz7kox+LlrL+rnke1CTHPUBjrzBfCeaun/9jF28Ezaj7S68fiehu8r5qv9Q5YAAAAS3FXBIrOzk758r7vyvhbF+Xc6efky7qB9pUz8kH0NPntZTm2XTXstjwhgz88JxffOidjh54IGojbVEM9P1SEjcOt3aoxuX2ffPesev8fDsoT+v2ffk6e6+6UJ749rt5vPAgWulHYf+F34Us/Uq/t1g3Q+DPVc/Z9Of2ZN07Kl9Xf/T+JXhNT36vzga1y7Jr+Ixsobv7LnqABHX/ni2e/K/v09+tU8+nD6EkW9gbzNtnz7TE5p+dd/N2S887C6fODZbNVtql5FD9v/Pi+9LK5PSMX/2UwmAd7vqfe560ZCZrcTssrnC962W/7xzNq+sfl5NlrcvPdi3LyGfUZOwaDz7z8oZq3H52XfvW58TIM3k+HFT1fu4/J1Wh1zZs/+js8cUjPo8Xp6HzxvIRLzR4okutMbf48sEvOxDNWBaax3XqefVn2HVfr0MSYDD7VKZ3qdVvV6wkUAABgtbg7AsUL51Oh4IPTu9TjT8iZqHEb/N3ZL+eMI+8f/aRfNQ4TjbyMqDH/hUG5mPiAD7735eBze7+f6FTzW9Vo1dNyNGz4X/22PvvQW5uG2MxxPW3xZ34gZ76i3l9NfzJSXH5JNTR3nIwa9Uag0J+jGse7js+Ef8fufCAn1XstNnSz0vMyagh//WLwf7GPJp6Tzi/syQ8mrp8fLZut6v2TyyazPC1dntyWVzRfdnxXZozVzezydPv1ftm2JbsOheuJGSDMv43lrATLp3Y2xR4ozHUm/p7xGZPbZ/eo99imvnfiSXHIMOYHAABAI90VgWIw3SauPR42ym7KmR7VwHvqWHAU/mKyoqPjtW4xGVHj0Gh0h9O0GFhC0ecEDf+rcuwL6t9GUAjcHpc96j2//L0wLoSN2kS3p6i7067TccoxAsXFQfX8rfLcaeO7qAqOzCe7DRnS8/J3cv5FfYT8CTk8MSO381KIyfXznZaNkgkUrsvLmC8JztdQBNPyZTl5I/zTHijM5Ww+LydQGOtMeno/knP71L9roTEhmL8ECgAAsHrcnRdlpx6PGnIFFZ9VyLI3Wu3TFDUsg+eGr4tDQ5rxnlGDutbtSU17+qxJ+vnhZ4fTbS81XTnXUmSm+8Nz8lzQFUe/rlO2bt8jgz+8KB8UXEPh/PlOy0bJBArX5WVfNlpuoPjtR/LBNRVMzp6Uwy8sXp8Rf7Y5f+zL2Xw8J1Bkpiv5eBSaMqFDsZyxAQAAaCQCRUHDs5z9tfZp8gwUclvGn1nsKhR0p0ldw5B+fuH8KJH32tvXL8rYt/ctXpxdcC2G8+cvNVCULq/852UCxUdX5btPJYPTl+WJrw3KyZd0t6PFzza/W953TT/uEyg+kJM71L8JFAAAoAkQKOLGm617SSl749A+TclAUd7l6YlEv/ygP31nv5zXF3J3ml2w0tPwu5/0B98tcyG3g8J5GfndjTNBg3brkB5hKsv5870Dhevyymu4q/8xAkV8Pct3r6VHWYq/S/zZ5vzJm1/px30CRUGXJzV/9EXfmfkGAADQIAQKJbxOYasMpq6SVc26i4OytVM9fiH9+CJ749A+TclAUXZR9jb57nvRA9r8Odn3QKcMvjSoGpN7ZDzV7jWmIboo+oGnz8jN5Gy+c1POqM/v/MoZMS6XrklN9+8uyrHtW2VbMDRtwkfn5Dn1eXmBwvnzvQOF6/JyDRTRculR0xv8HbmjGvUvhGct4s82l2veupd+3CdQRCHSvChbBY3zxjQBAAA0GoFCi4dwVY32cJhXPWxoOIRp527VEMydXHvj0D5N6UDhNGxsTXTEWn/WM+Ph0Kk12WnQnx8MXbr9OTkzEV4T0B906TEbqGnp6f6dXD4aDnX7xAsno+FfT8pzPep9dJcn2/yOOH2+67IJwpQKMPtOyrl42Fin5WVfNlp4f49dcvhsOGzs1aHwe375eT28rJ7e78q+XZ3SuUVVYlrM5WpfzubjfoFCj4p1JpjX0bCxav04poeN7TQDRfS6xBkXAACAlUSgiAU3EUvcKO0LX5Y9375YECY0e+PQPk1GoNAsN7Y7NvGBESZCcfebfa+b/2ufhtsXVaM4vrGcaixve6pfxt7LDxNaZrrvfCSXTyWundDvo2/2ZpvXhtLPd142H8nV4/HN3dS0xReUly6vvIa78uE56VeBIXidvoD7zm3jJnlPSP/py3JzLgwz8Yha5vzJW/fSj3sGCk19x+RN/4Ib202Y8yd6HYECAAA0SNMHCuCuEgwbmx2qFgAAoFEIFMAqpLthbd1+TC6nfiofycWvb5UHOg8bjwMAADQOgQJYja4dk20PPCCdTw3KmL4OpXaNTWfBjRYBAABWHoECWKU+em9M+p/aVrsOZetX9sl33yJMAACA1YVAAQAAAMAbgQIAAACANwIFAAAAAG8ECgAAAADeCBQAAAAAvBEoAAAAAHgjUAAAAADwRqAAAAAA4I1AAQAAAMAbgQIAAACANwIFAAAAAG8ECgAAAADeCBQAAAAAvBEoAAAAAHgjUAAAAADwRqAAAAAA4I1AAQAAAMAbgQIAAACANwIFAAAAAG8ECgAAAADeCBQAAAAAvBEoAAAAAHgjUAAAAADwRqAAAAAA4I1AAQAAAMAbgQIAAACANwIFAAAAAG8ECgAAAADeCBQAAAAAvBEoAAAAAHgjUAAAAADwRqAAAAAA4I1AAQAAAMAbgQIAAACANwIFAAAAAG8ECgAAAADeCBQAAAAAvBEoAAAAAHgjUAAAAADwRqAAAAAA4I1AAQAAAMAbgQIAAACANwIFAAAAAG8ECgAAAADeCBQAAAAAvBEoAAAAAHgjUAAAAADwRqAAAAAA4I1AAQAAAMAbgQIAAACANwIFAAAAAG8ECgAAAADeCBQAAAAAvBEoAAAAAHgjUAAAAADwRqAAAAAA4I1AAQAAAMAbgQIAAACANwIFAAAAAG8ECgAAAADeCBQAAAAAvBEoAAAAAHgjUAAAAADwRqAAAAAA4I1AAQAAAMAbgQIAAACANwIFAAAAAG8ECgAAAADeCBQAAAAAvBEoAAAAAHgjUAAAAADwRqAAAAAA4I1AAQAAAMAbgQIAAACANwIFAAAAAG8ECgAAAADeCBQAAAAAvBEoAAAAAHgjUAAAAADwRqAAAAAA4I1AAQAAAMAbgQIAAACANwIFAAAAAG8ECgAAAADeCBQAAAAAvBEoAAAAAHgjUAAAAADwRqAAAAAA4I1AAQAAAMAbgQIAAACANwIFAAAAAG8ECgAAAADeCBQAAAAAvBEoAAAAAHgjUAAAAADwRqAAAAAA4I1AAQAAAMAbgQIAAACANwIFAAAAAG8ECgAAAADeCBQAAAAAvBEoAAAAAHgjUAAAAADwRqAAAAAA4I1AAQAAAMAbgQIAAACANwIFAAAAAG8rHijefvtt+d3vfhf9BQAAAKCZrXigmJ6ellu3bkV/AQAAAGhmKx4odJj4+c9/TrcnAAAAoAWseKDQ3n///SBU3L59W37/+99HjwIAAABoNg0JFJo+U6G7P+lrKvSF2hRFURRFURRFNV81LFAAAAAAaH4ECgAAAADeCBQAAAAAvBEoAAAAAHgjUAAAAADwRqAAAAAA4I1AAQAAAMAbgQIAAACANwIFAAAAAG8ECgAAAADeCBQAAAAAvBEoAAAAAHgjUAAAAADwRqAAAAAA4I1AAQAAAMAbgQIAAACANwIFAAAAAG8ECgAAAADeCBQAAAAAvDUsUNy6dUump6fl7bfflrfeeouqUHqe6Xmn5yEAAADQSA0JFO+//778/Oc/l9u3b8vvf//76FG40vNMzzs9D/W8BAAAABplxQOFPqquG8IEiaXT81DPS85UAAAAoFFWPFDorjr66DrqQ89LPU8BAACARljxQKH7/3N2on70vNTzFAAAAGiEFQ8U+qJi1BfzFAAAAI1CoGgBzFMAAAA0CoGiBTBPAQAA0CgEihbAPAUAAECjEChaAPMUAAAAjUKgaAHMUwAAADQKgaIFME8BAADQKASKFsA8BQAAQKM0b6CYm5KR/h7p3NgubW1tqtZJx/ZeGTo/Fz2hmrnTO9V77JSRm9ED9XapL5jOvkvR33fmZfr0Xhl6J/p7CQgUAAAAaJTmDBSzI7JzrQoRazdI1+4+GRgckIGDvdIVhIt26RyckoXoqa5WPFDcVN8h+fcSECgAAADQKE0YKBZk8lkVHNaqxv9s9FDszrxMHtykGu5dMnwjeszRsgcKE4ECAAAALaAJA8WcjOxok7YdI+pfFteHpbOtXXpfi/43ODNgCQrG47VA8c6kHHl0g7Srxn77xi45cHpa5u+Ez6l9dv+kzL15RHZG3a3WbT0gI+8tqEAzK6P7u2RDdPZk50vqefFrk2coon8vVp9Mhc/yQqAAAABAozRll6fplzYFZyiGr85HjxSoFCjapX1tu3R+dVgmzk/IyMGuIFh01LpQRYFic4d0rO+WvtMTMjk2JD2b1WObemXvo+syr+06EZ1GSQaK2zPqdX0q+LRJz3cmZfL8jDh8k1wECgAAADRKc15D8fG0HHk4PDugzyL0HhyW0fPTMvtx9P9JlQKFCgDHZ8IHIjPHuxLPiwKF/jvR3WrhjQPBazcdnExcuzEjw1vUcx8dDc+kJAOFRpcnAAAAtIDmDBTanQWZvTQiA7u7pWO9buSHFXQ/Sp65qBQoemT0dvh3zeyIdKv33fkDHQuiQPGlEUldvhGHhTejvyOTB9Vz465ZBAoAAAC0oOYNFIaF+VmZHhuS3of0mYsO1VCPzhVUChS2axmmpE81/DcdnVb/zrl+wwwLkal+AgUAAABaW8sEipo7UzKwSTXkU12Nlh4oOoOuUAQKAAAAIKn5AsU7R2SdaogfeCPvThPzMvqk2ZDfJEeuBv9ZM/cDHSDMQNEr4+bV0VGXp97X9H8QKAAAAICk5gsUC5NyQA/LuvmATJhnHZSF94aChvqml3QXJeXqEdmk/u4ZSySFO7OLF1enAkWb7DyVvDpiQYWCDvV4fG0FgQIAAABIasouTwuqcd6hGuN6mNcND/dKn75T9mCf9D4c3j+ibXOfTMUjPt2ZliN6WNe1XeEwr6+PSN/2ddLx6E7pzASKDunYvE66+0dk4vyoDD3dqd6vXXaejkNGHQPF/Lj0qr83Pa2HmWXYWAAAADSn5r2G4uakDO/vkU4VAHRDXde6zd3S+3LiZnKxuUk58nhH0FWqbX2H9Ogbzs3qMwTZaygmZ8flQBRM2jfulL7Xk2cs6hgoZEGmX94Z3gRPTcdo6g2rIVAAAACgUVrvouy7EPMUAAAAjUKgaAHMUwAAADQKgaIFME8BAADQKASKFsA8BQAAQKMQKFoA8xQAAACNQqBoAcxTAAAANAqBogUwTwEAANAoBIoWwDwFAABAoxAoWgDzFAAAAI1CoGgBzFMAAAA0CoGiBTBPAQAA0CgrHijefvtt+f3vfx/9haXS81LPUwAAAKARVjxQTE9Py+3bt6O/sFR6Xup5CgAAADTCigeKW7duyc9//nPOUtSBnod6Xup5CgAAADTCigcK7f333w8awvroOsGiOj3P9LzT81DPSwAAAKBRGhIoNH1UXXfV0f3/9UXFlHvpeabnHWcmAAAA0GgNCxQAAAAAmh+BAgAAAIA3AgUAAAAAbwQKAAAAAN4IFAAAAAC8ESgAAAAAeCNQAAAAAPBGoAAAAADgjUABAAAAwBuBAgAAAIA3AgUAAAAAbwQKAAAAAN4IFAAAAAC8ESgAAAAAeCNQAAAAAPBGoAAAAADgjUABAAAAwBuBAgAAAIA3AgUAAAAAbwQKAAAAAN4IFAAAAAC8ESgAAAAAeCNQAAAAAPBGoAAAAADgjUABAAAAwNuKB4rr/3OaoiiKoiiKoqgWKQIFRVEURVEURVHeRaCgKIqiKIqiKMq7CBQURVEURVEURXkXgYKiKIqiKIqiKO8iUFAURVEURVEU5V0ECoqiKIqiKIqivItAQVEURVEURVGUd61soPh4UvZ8pk3a2hJ1z8NyeNo+cZVr+pBsuyf9/mseOSQXblmeS1GWunT84dT6s+34eevzKGq1lLnOVqp71ktH52bZ+tRu6T9+Us7NXLZ+hm+9+84rcuzYbtn1xc3Scf/a1GevuVc99sUdsucbh+TMO+fl2jJsp69Nj6nPf0Z6/zr7+W2f/qz67p+XXfufl8Pj43Lp1/b3KK7zcvg/J95TlW2bsaRl5FxqX/qL9Oc6Td8vj8r2xP9bn7PEujb+lKxJfsZnviZnU8v7FdmT/P86156J5Gel69Vnqz2foih7rfgZimsTu+U+48dbl0b/rXNy+JE1qfdtu2eHHP+l5bkUlVMECqrZqt6N1U998WtyJtMwrVC3zsurx56Shz5tf//c+vSDsusbJ+VSHYLFpfHnZdfnjP1Baa2Vh556vuJ3b4FA8T8vy5mvGvNqy4tyIfWcpdRlObkn8d6qHjp2zngOgYKimr0a0OXpsvoBfzbzA972HXMDU60ufMfcYN8re35c36NtVOsXgYJqtlqexupnpfdH1df9d3/6vGytGiTM+vTn5blxz9/dh+My+BXjTETlWivbj43LNdv7Z6oVAoWqC1+TjYnntLU9KINXjOf4VuYMiG06CRQU1ezVmGsofv2K7Lvf/BGrDdg72Ql0qndelIdS79Um9z37iuMOgaIWi0BBNVtlGqtBV57NbvW59emuKKn6rDz3lv0zs3VZzn79wfz30l2rdPemF56RfUGF3aDuyw0fa6Rj//FqZytsZ6mTFXXvqpXZBSpV6vNfcNmHOAaK04+lP7ug1pvddnXXMMvzsvWYHJ9Jf65zoLg1Js8Z3ZE7vjWefZ5HZdbPrxyVdzPPywaKT91v+45+1f9T8/MWi0BBUfWpxl2U/dbXMl2f9GnWc1VPd+sNoRlO7n9GXvXqD0vd7UWgoJqtMg22Z1+xPq+orl05Kc990dLAdtom2886B43ynufl5DsXLa9ZrGtXXpHBPQ/KpzKvV41K1fh07Q579uvZaVjzuR3SPzoulz60v+b6rcvyrvr8w89+3vL5Lme5HRvsztW497tw7MHU84LrHCzPq1bnZHBL4j3VOtE7bpun2UCxUo16AgVF1acaFyhUnfuWsQFTdd/Xx1LPKS61I3vB3Iks4UwHRVFUk1U9AkVQty7KmUwwyGsALtYF9fmZMxP3PyaH3yoOEpn6xXHZY7nuwelss+XC4vu+WvEMx5Wj8kTm4JR58bBZrRMosvPwXnnuguV5VeqdF6Uj+Z6Zi7HjIlBQVLNXQwPF9VvjxtELXZ+VfT91u/Yhe4H3GrWxXNq1GBRFUc1UdQsUun6tGnbmSHx7juc36C3dTdc88qKcyzsjUFbWbkvlZwounTDmgc/Zbl2ZM+drShqXLRQo/udFOfaV9HPXLGVdUnX2xXtT77fxxbwDhgQKimr2amyg0KWHejV+zG3375ZXy3ZIH6oNkHE0iSFiKYq626qugULVuW9tTr9fbteXbGPVadtdVpZte9mZArNR6N8Izzaqi68laKVAYRne9Z6n5Ixv9+FbajmmrgcputC7cYEis75bLxqnKKqsGh8oVNlOmRef5r4sZ/anj3wwRCxFUXdj1TtQXP/x7vT7tamQYHmePkOcHhmoykXcJWW5xm77qfwuVGagWEpjNDzbsVbuiy/q/UbR/GytQJG9OLu8y1teZcKJ9WLsuBoXKDK/HwIFRXnVqggU9tPcn1UbFPuG7NqPjA1VxSFiw5sdPSXb1c4iNaKGHh1Fj0Ry7LicqxBOlrIzc31teqO3uIMPxlv/4mdrFxR+6v7Py64XDsmr0347gbDSG/faDugDNd+e7ZaOe6NlpUdN+eunZHB0XN4tOjN067JcuHBUBveo16ZGlVkj6z+3WbbveV4OT5wrv7HVFaN7hc9Fg+bwiMZOzty5VNqZ/3Jczhx/Jjt6TZX1yuxz3PminLM9zyj9m6i9Rtc9ah1xOVunGoXJ31J2fHiHWu3T/OtzcvbUi7Lnqc9bRjUKG47BOjhesh7n1LvvHJfB/Ttka+fi71BX7cZternX+YZxyap7oFDzN/V+1kCRvbdAcYOxaun3N/YJBfdGMLejW5c4DLl7tVigUGV2Uyrs8pZb2fWj90dFv4HGBYp3T+9IfW5b21NykkFdKKpyrY5AoesXRzN3uW77zG45Y54+//C49BrPcx4i9hc5I5lYa410/O0hOfuB5X2Makyg0BekbzYaR4la0o2JLIFi+qhsLxjiMe8o1qXxr7mPS186/rw5Ykj1iwbTO8vsdHsFChW0Dv9twbJIVdl6NS6Dncnnux0te/XZbL9zl6PF6fnhO/b8Kp1mvVxyRg/KrQr3QLh26ZA84XzzNBWeH/manMkM67n0qnegyDawLIHi12o7nHpOWYPRozL3RticO+BGZppt+45lqdYLFJkDN2075LjDfjBV5gXepV2nGhco3AI0RVFltXoChSq9UzAbZfelxgK3HLVyHCL2wqnHssPUutQ9D6pGa/GOshGB4rD6u6gBW9Q9oLyMQHH4ULZPc7JsI3fcOi8n97s2stN1X+9Q7rUw757qTj230kWDvz6ZDqOWnVzVQHHt0osFQaugCtars19PHyHcdbpsWWbHkNdV3hAxXud4ZsFWq22a9XLJHKBwrvLBHWx3/Heqe1TYmra/p2/VN1BY7pr8yFG5ZD7vp88Yv22PRmdZZfrgq/XjRM76YTnQtOZzj8nhC0vZDrpUCwYKy3UkVfcn5jqZfzF2XA0MFOa6fI9qU9ieR1FUYa2qQGENDIl+udd+bPbZdRsi1jqs4T3rZduzh+TkhXPy7i8vqjov5yaOSv9TtiOa+d2vdK18oEiUPqJ6akwu6O/wC93lZrds21J8AWN5ZTfuYemj6y/KmXfOB/NMd2PS8+uJzM7GPi79p7bskP5TJ+XsFT2/w+l9dVSFlUeyN9fSoSLTiNFlHhmtcNGg2afXtpOrFCj0gAJmozVerybG5VKwXun5dFKOfWOHPGQGDxUq+t+yrFfmkdmyLgdml6O4eoaKu6AYr1vSjaxW0zT/ckh2mcvl0w/Krm8clTO137uuc3J2XHfFs92DoOAsS+b99dkHFfJHX5Fzv4jfW29Pjtvvb+A7AlFO1TVQWAbJsHUpy3zmEsJoflm6Ve0/aXleWNbtvKo194bL/lW13SrtVlm5WjFQWM74VOrOZp5Jdjnz2cBA8Qtjnf/Ph+z7HoqiCmuVBQpVliNNwQ74g5PGcIaOQ8SqBog5rOGnvvJicVcm23joquF6MucUesMCRT1GVLGWLVC4D8mrL2pMH/F5UPb9uHgn9u5b5pF+9XnWo5HmEVTXiwYvyvGe5Pvbu084BwrL3d7v6z1UPFym7ayN7QybeWS25NoC67oR1G45U/C69Ogm+d1JnGrVTHP2CLvTMKYzartjLM+8azPSZ2PUelrWX/+KGTz9L3S1VWZe+gYKtd0z50FbW7ccs1z3Y263/PrZl1dmBJ7Cxl7J3bqD0tfMdEvvN6KDSY4HI/KrNQNF5myuUyiIyjxY4NRAJ1BQVLPX6gsUqrJnIlRj7f70EW+3IWIt42q7Di1rGbow77RtYwLFvUu/6VBuWQKF6xGqTCB82H1HZB7xzzv7YB4NLzuqrcvs05tzjYlroDBvyrhx/0nHC3qzZ2+yDVezUayWde61BemgtFH9ThYbVEWvMxoaS74r7iqZ5kzfbffR3zKj0lgbyefk8MOJ5zjOtyV11SuppQSKa8EZtLyzNGq7a73RqBnOVdXx+yQr890cuqNUum5LVTyQhT7zWv0MRosGClXmxdmuAzaYr3PrLmXZ59SlXK7nMj674CwYRVH5tSoDhW6c2LrM1Mq1kWBeXFZ1aNnM0IX2fsINCRRLbgAWVXbjXt4nPqwLx9IN7YcqdqNx2xmZFwHbj6Imy5x/eTs5p0BhuRYj7+yVtcxGr+UaFHMEpNzuSKkuYGtkz4+Sfxe8zjgqt7HSHerttRqm2eyqUd53O1FORyqN34br71B/Zz3aV6dqvO5/RvadGKvbEf3MtqFOlX/wJdtIzV1mS6zMSGCuF8zeOi+vHt8t2+93HYQjqqBr3MkKd9hu3UCh93+pAzcu3doyZypdu6SuokCxTOGYolq9VmmgUGW7uVFQ7kPEXvjO51OvrX5UMHuGwzaSSUMCxbIeRTE37p93vJDU3Hm5jfaTKvN0ec7ZBzO4FB8FM/v05l9A6hQojGFLq69XZt9wy1F581qRvFG7UtOihzs8L8ceSbwuZ/6lG95FZwUq1CqY5ks/el72vRAOCd1x72erncVzChTGGQrd5elbY17DzdarliNQfOqLz8vZ3JBc70ZvfnkHikRdm9HXlj0vvX9tDBNeVPratJJummG1cKCwjapXsp1wuU7NXo0MFOkDVMsVjimq1Wv1BgpV1376TGYkFechYi2n5X2GNcyEkheyjcdGBIrl2oGHZW7cHXfiZoNSNxZrF8A61sxQ+j3yujg4dmEKyggpa756MncdcpnPZr/urbpBafsuBXX2cDoQZa8XMddf+44x1Z8/aoinp0832M3XGe9tOUPiV803zdc+iC6efmGHPBTfXyWunL7U576RPXu65t6HpffY0WDAgfpf+Ftc9QwUwcAJ42X3hMk2UutxhstWme9WhxF4runBIKL7kqTuF5Mpl+vGWjlQZLvqFQcEy4ES50CfDRSfuj+6seCS6jE5XjpUc3oeLe++laJat1Z1oLBtZNwb6+aRRNej7EaZY1Rbjp42IlC4dkHyK2O+u3brMM8u1KXyziaYjdf8iwbT3aiKd3LlgcIy8kwdytp9x9iZZ5d5+sha7WZeqTMAlqOKRvCrZ3/+VTnNty7Lu1fG5Iwe0emFZ2SfvsGicRM6a+VdnGkbOCJVa+W+L+6QfcePq4BRv4uv8yrT6A66VtkaV9na+tRu2ffCi3JsfEwufOA+reZ2a7m6iVS7KNuvdMAIRsczA2VQxSP8tXqguP7BkOxKvLYwyFc5yJOppezrl1rpfUnu0MQURRVWCwcK87X53VwKa/qQbE2+j2WH1ohAsbwbW2Peue7EzfBVl8o/ZW2eXreeqr5l3Leg5Mh2eaDI7qDrUrYGmdkFx7xIOPX/iUa40fg250u6G8ma+q5Lq2iaL03YhyR2roL1/tqFr8lDzt1nPivb96hG+wWHu8F7VCZQLFPjPlnmmdvlaOhbw/tydvXUd/Qf3S0d5nK9v2ib0eKBQi0Dc1Q9131UtXtXNDJQpPfDK/m5FNVKdRcFiup9b4Ny6FdNoIhqhQOFS1gwQ0fZSCWrKlCYn2UMxZq6piD1f8Y1CcaNyVJ3qC4Z3rV6rYJp/nBcBr/ifjHumns3hw3+7z9TevAgVR+MybFnH3bvl6/LuW++ezUiUKTPKOmydVNbamVvfri0xrVbZW9aWBRgV1sAMKsO72eMqmfvMmpeb1F1fWhwoHhhcfuykp9LUa1UnKEoK4cxtQkUUZmBwnaH3TpXcXcm8+ha+QV61QPFGtn30+T/17fSXT4SR/TNo7fGmYDcaxKMUViKrifxrYZOs+X+ILW6Z7106HsQvPCMDJ46Gdzo7N3khccOBw+sdeuinBs/JPtK++TH5X5PF5dqSKDIXC9V33trBGUOD22978g5Oabme9CF63P6bNTDcqy0z3xZZe9lkn+h7l0QKDLBzhIWKlynZq+l7OuXXou/Ic+u0RRFcQ1FaZmN5FVyDcWqDBQ+wwwutYyhgVN9683+vw730igPFOa1G34X+zuXsaNebNiohnOikZ25ViG1LBJHWI3H694I1NXAaT77dfOC6bWy9cXjcm7G4Xv6Bgqj3C76rXCjsJJqSKCwNLqr3U25rCzvb+2Tbw4h7dYdrqzc5+ndECiyo+qZv90q16nZa7UEivKDThRF2auFA0W2/209RnmyXTzrHyiyG/u81zZFoDAb8L5nhSqVMbRvYtzz9AXCbo3n8kBhjFKkarlGuAnLODoYn/VJNdotO8GcaxLS074c3VR0NWiaM3f3rXgmwAzEnoHCrGtXXpHD+7N3cM4/6l2tGhMoVGXOILgP6V1aal1J3UNIlb1PfnY7X+neIzllzlPb6H5h3R2BInPBdTI8ml1PK12MHVdjAwVFUUuvFg4Ulp1C5dOw2Y2x9T4Uif6XupxHibh10vn7NUWgyBwtrHphnirdSAm6puh+7c/IvhePl+6c7MHBWHaON1hyCRSZsfErD2EahqBgWMQv7pA9Lzwjh3+aP59sDerUdFrPBBlnUoJlaCwf652g61MNmeafPpNutFdcLuYIVbb1/t13jsvhbzwT3NOg4/61lQ5SmHdXr9f8N9fZFQsUwfIyziJ8ZrecqXKTR1vZ7kGk3vfVnN+veTPDpR9lzoaU/G36XRIozN9m4mai5nVqfu9PoKCoZq+WDhSZO2U73FE5VW+53Snb3KG7HrHWDVPzqGVzB4rs0fviEVLM0jvydAPFKQQaR6aD1xjdV1yPWprz2bpzzJyJWWMZHrWgMkdfS7q/pC6A1V060g2evKOn6e+i1t2JdFekZe2q1YhpNrsnVlhvr99SwSV1Uan99WaYrHSQwpy+pg8UqqbV7yx1VkjV/SpU+J6ZvHVODj9ihBR9kKBouWfOTKnl8ogKrJ7BJntRdlFAuVsCRTY4hAeLzK5pFfextSJQUFSzV2sHiuhIcPL1ax45JBdcGriWo2S5jYcfGw0Fl6N0OXcCb/ZAkemHrsr1ZoTZHfm9zn1xzVGADn8nOb/U+5j3Ncgpp0ChdqKvPmsEp3tUo8PlGh1bg6ms77lxUfLGF7+W+ju3sWVce7DtEaOxvpzd0RoxzeYZCucuXXp5Zm9WZz2LkgmTjstdldkPvV5d5RoaKFRdUJ9vHhhp+3S3DL5V8ezkL47Lns+ZYcJt+3Eh9XsPa83nHpPDFafh3Z9mhwNeUxj87p5AkenapK8ntB3Msb22tIx9jioCBUU1V7V4oFBl6Yv7qa+8KGeLGia2HZtqMB7LO0qVaWTo4JJ/hOzdtw7JEzkj0TR9oFCVvTB2jXTsPy6XCoKcdUduuQA+t1L9ue+VjZ59et0ChapfqmVuTG9pI0qFiWO95rz5rEPYyXbBWKyCRrbRqE9VlXnrVQ2Y5szIQ7oxelLeLTqA8MGYHP7bzdkGcVC7LUNNW8Lk/Sq4lHSxuXbpReNIfrNflJ2sy+o3n71GJPjd9zwvJ98pbtRfm35FDj/7eeuNBp0PAFnPbOhaI+sf2S2Hx8flUt5Bnl9flAt59ywp2u4HdRcFClXpkdh2yLHTxg0pK1+MHVfjAkXm97PkLnMUdXdW6wcKVdYjaPesl23PHpKTF87Ju7+8qOq8nJs4Kv1PPWjZsZXdLdXSyNClP0OPbz9+Us6oOnZst+zakhwff41se2F36oh+KwSK3J37px+UXd84Gg7XGczzc3J2NGdHfr9qzFXqsmCOg75YVa7jcA4UqrJnVHRFDZjRMbkQfMeLcumdV+TYN3bIQ5kRf9wvGs5ctxFX4bLJb9RX6qLlWSs/zfbf4ZrP7ZD+U6/IuV+EyyNY7/Rds/eY95BYI2tSf9sChSpbmNSjSenf+oRquEbLPf4c2zblvhfcztq5VOMDha7Lcu5Yd/7dx/V1UdH1Qvui6v3rzYXD7N7XO+QWJuL68BXZZznDkaro+qy4iof5Ldvu67q7AoXZjXjjZxK/t8rXkiUru68PrjFLLKul1WNyPGc4YQIFRdWn7opAoevCqccsjT+HuudBea7ggtla5XRhyi/VmPzWeKavf0sECl06VFS4uViq7lcbf48hfs0uJWFV69NbJVDoevfHz2TvrOtUa+Shr4+5NyotZ8F0lY0UdOmEubPU5dvPuWI1Ypor/w6jUuvc4UsX5cz+5OP5Q01XulO2UZ/6ytFqDeWSWh2BIqzg7GtZo76s7tksT5zyvE+HPguYe8apQumzjZfKwoSuuyxQWLoRx1V209Diyu7r61v5IYFAQVH1qbsmUAR15bjs+aJrI3etPLTnUHHXKLM+HC/oPpEotcPc86Noo96qgSKoy3Lu1G7Z6nSzL11rZeuzx/0bW+bQhqqq9umtGiiCmjkp/T3ujRh9xHzQJaSmKnv/C6drQ1JDtUZVds1G3apB01zlTtnqt7jrGydr3fHM5V94VuQXJ+U55+2Jqk8/KL3Hx4q7YHnUagoUQekb/Y1+TbbdWzFY6Plz7JXCrpGu9e5bR+1nPssqOIu6uD6U190WKPLOPC71IAWBgqKave6uQBFV0Gf3G0/J9s7NqS4Pa+7dLB1//ZT0Hz8p55awcQze/4UdsjW4c2v0/tEp/33HjR1mSweKqG5dlgsXdBeTbuno/GyqW0S95nlYZneZ6je58goUcf1yXM4cf0Z2fVF9p1Rjaq3c1/l52bX/RTl24Zxc82wwZXd8u+VM6XuZd7ldeoOiSjVymvUQr4P7jd+hKt2VYutTzwT96jONe3NkOIfrb5Lbk3QXmjWy/nN6+OPn7Z9Vp8rM40YHikRduzImx44tDrObnM7gt6+7QR3T3SCXqQveh2G3yn69HmSWj6pPf1Ztk7ql9xth99fqv827L1DYRtVa+ohlBAqKavZa5YGCoiiKoiiKoqjVXAQKiqIoiqIoiqK8i0BBURRFURRFUZR3ESgoiqIoiqIoivIuAgVFURRFURRFUd5FoKAoiqIoiqIoyrsIFBRFURRFURRFeReBgqIoiqIoiqIo7yJQUBRFURRFURTlXSseKAAAAAC0DgIFAAAAAG8ECgAAAADeCBQAAAAAvBEoAAAAAHgjUAAAAADwRqAAAAAA4I1AAQAAAMAbgQIAAACANwIFAAAAAG8ECgAAAADeCBQAAAAAvBEoAAAAAHgjUAAAAADwRqAAAAAA4I1AAQAAAMAbgQIAAACANwIFAAAAAG8ECgAAAADeCBQAAAAAvBEoAAAAAHgjUAAAAADwRqAAAAAA4I1AAQAAAMAbgQIAAACANwIFAAAAAG8ECgAAAADeCBQAAAAAvBEoAAAAAHgjUAAAAADwRqAAAAAA4I1AAQAAAMAbgQIAAACANwIFAAAAAG8ECgAAAADeCBQAAAAAvBEoAAAAAHgjUAAAAADwRqAAAAAA4I1AAQAAAMAbgQIAAACANwIFAAAAAG8ECgAAAADeCBQAAAAAvBEoAAAAAHgjUAAAAADwRqAAAAAA4I1AAQAAAMAbgQIAAACANwIFAAAAAG8ECgAAAADeCBQAAAAAvBEoAAAAAHgjUAAAAADwRqAAAAAA4I1AAQAAAMAbgQIAAACANwIFAAAAAG8ECgAAAADeCBQAAAAAvBEoAAAAAHgjUAAAAADwRqAAAAAA4I1AAQAAAMAbgQIAAACANwIFAAAAAG8ECgAAAADeCBQAAAAAvBEoAAAAAHgjUAAAAADwRqAAAAAA4I1AAQAAAMAbgQIAAACANwIFAAAAAG8ECgAAAADeCBQAAAAAvBEoAAAAAHgjUAAAAADwRqAAAAAA4I1AAQAAAMAbgQIAAACANwIFAAAAAG8ECgAAAADeCBQAAAAAvBEoAAAAAHgjUAAAAADwRqAAAAAA4I1AAQAAAMAbgQIAAACANwIFAAAAAG8ECgAAAADeCBQAAAAAvBEoAAAAAHgjUAAAAADwRqAAAAAA4I1AAQAAAMAbgQIAAACANwIFAAAAAG8ECgAAAADeCBQAAAAAvBEoAAAAAHgjUAAAAADwRqAAAAAA4I1AAQAAAMAbgQIAAACANwIFAAAAAG8ECgAAAADeCBQAAAAAvBEoAAAAAHgjUAAAAADwRqAAAAAA4I1AAQAAAMAbgQIAAACANwIFAAAAAG8ECgAAAADeCBQAAAAAvBEoAAAAAHgjUAAAAADwRqAAAAAA4I1AAQAAAMAbgQIAAACANwIFAAAAAG8ECgAAAADeCBQAAAAAvBEoAAAAAHgjUAAAAADwRqAAAAAA4I1AAQAAAMAbgQIAAACANwIFAAAAAG8ECgAAAADeCBQAAAAAvBEoAAAAAHgjUAAAAADwRqAAAAAA4I1AAQAAAMAbgQIAAACANwIFAAAAAG8ECgAAAADeCBQAAAAAvBEoAAAAAHgjUAAAAADwRqAAAAAA4I1AAQAAAMCTyP8PhJKQ+LDAlG8AAAAASUVORK5CYII=\"/>\n"
   ]
  },
  {
   "cell_type": "markdown",
   "metadata": {},
   "source": [
    "### Delete the endpoint\n",
    "\n",
    "Remember to always shut down your endpoint if you are no longer using it. You are charged for the length of time that the endpoint is running so if you forget and leave it on you could end up with an unexpectedly large bill."
   ]
  },
  {
   "cell_type": "code",
   "execution_count": 138,
   "metadata": {},
   "outputs": [],
   "source": [
    "predictor.delete_endpoint()"
   ]
  },
  {
   "cell_type": "code",
   "execution_count": 143,
   "metadata": {},
   "outputs": [
    {
     "name": "stdout",
     "output_type": "stream",
     "text": [
      "origin\thttps://github.com/udacity/sagemaker-deployment.git (fetch)\n",
      "origin\thttps://github.com/udacity/sagemaker-deployment.git (push)\n",
      "own\thttps://github.com/yawerijaz/sagemaker-deployment.git (fetch)\n",
      "own\thttps://github.com/yawerijaz/sagemaker-deployment.git (push)\n"
     ]
    }
   ],
   "source": [
    "! git remote -v"
   ]
  },
  {
   "cell_type": "code",
   "execution_count": 142,
   "metadata": {},
   "outputs": [],
   "source": [
    "! git remote add own https://github.com/yawerijaz/sagemaker-deployment.git"
   ]
  },
  {
   "cell_type": "code",
   "execution_count": 145,
   "metadata": {},
   "outputs": [
    {
     "name": "stdout",
     "output_type": "stream",
     "text": [
      "Username for 'https://github.com/yawerijaz/sagemaker-deployment.git': ^C\n"
     ]
    }
   ],
   "source": [
    "! git push own"
   ]
  },
  {
   "cell_type": "code",
   "execution_count": null,
   "metadata": {},
   "outputs": [],
   "source": []
  }
 ],
 "metadata": {
  "kernelspec": {
   "display_name": "conda_pytorch_p36",
   "language": "python",
   "name": "conda_pytorch_p36"
  },
  "language_info": {
   "codemirror_mode": {
    "name": "ipython",
    "version": 3
   },
   "file_extension": ".py",
   "mimetype": "text/x-python",
   "name": "python",
   "nbconvert_exporter": "python",
   "pygments_lexer": "ipython3",
   "version": "3.6.5"
  }
 },
 "nbformat": 4,
 "nbformat_minor": 4
}
